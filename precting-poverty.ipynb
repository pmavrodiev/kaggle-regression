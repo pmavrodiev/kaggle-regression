{
 "cells": [
  {
   "cell_type": "code",
   "execution_count": 1,
   "metadata": {
    "ExecuteTime": {
     "end_time": "2018-08-08T19:09:01.266884Z",
     "start_time": "2018-08-08T19:08:58.737800Z"
    }
   },
   "outputs": [
    {
     "name": "stderr",
     "output_type": "stream",
     "text": [
      "C:\\Users\\M0205192\\AppData\\Local\\Continuum\\anaconda3\\lib\\site-packages\\h5py\\__init__.py:36: FutureWarning: Conversion of the second argument of issubdtype from `float` to `np.floating` is deprecated. In future, it will be treated as `np.float64 == np.dtype(float).type`.\n",
      "  from ._conv import register_converters as _register_converters\n",
      "Using TensorFlow backend.\n"
     ]
    },
    {
     "name": "stdout",
     "output_type": "stream",
     "text": [
      "1.9.0\n",
      "2.2.2\n"
     ]
    }
   ],
   "source": [
    "import pandas as pd\n",
    "import tensorflow as tf\n",
    "import keras\n",
    "import os.path\n",
    "import numpy as np\n",
    "\n",
    "from keras.utils import np_utils\n",
    "from datetime import datetime\n",
    "from sklearn.model_selection import train_test_split\n",
    "\n",
    "from keras.callbacks import Callback\n",
    "from sklearn.metrics import confusion_matrix, f1_score, precision_score, recall_score\n",
    "\n",
    "from IPython.core.debugger import Tracer\n",
    "\n",
    "from imblearn.over_sampling import SMOTE\n",
    "\n",
    "print(tf.VERSION)\n",
    "print(keras.__version__)"
   ]
  },
  {
   "cell_type": "markdown",
   "metadata": {},
   "source": [
    "# Read-in data"
   ]
  },
  {
   "cell_type": "code",
   "execution_count": 4,
   "metadata": {
    "ExecuteTime": {
     "end_time": "2018-08-08T19:55:16.164982Z",
     "start_time": "2018-08-08T19:55:16.015219Z"
    }
   },
   "outputs": [],
   "source": [
    "train_pd = pd.read_csv('./datasets/train.csv', sep=',', header=0)"
   ]
  },
  {
   "cell_type": "markdown",
   "metadata": {},
   "source": [
    "## Getting to know the data"
   ]
  },
  {
   "cell_type": "markdown",
   "metadata": {},
   "source": [
    "Check if there is more than 1 household head per household\n",
    "\n",
    "Group by *idhogar* (household key) and then check column *parentesco1*"
   ]
  },
  {
   "cell_type": "code",
   "execution_count": null,
   "metadata": {
    "ExecuteTime": {
     "end_time": "2018-08-08T19:13:26.261061Z",
     "start_time": "2018-08-08T19:13:26.247558Z"
    }
   },
   "outputs": [],
   "source": [
    "idhogar_aggregated = train_pd.groupby('idhogar').parentesco1.sum()"
   ]
  },
  {
   "cell_type": "code",
   "execution_count": null,
   "metadata": {
    "ExecuteTime": {
     "end_time": "2018-08-08T19:14:44.642823Z",
     "start_time": "2018-08-08T19:14:44.637232Z"
    }
   },
   "outputs": [],
   "source": [
    "idhogar_aggregated[idhogar_aggregated != 1]"
   ]
  },
  {
   "cell_type": "markdown",
   "metadata": {},
   "source": [
    "There are 15 households with no household head"
   ]
  },
  {
   "cell_type": "markdown",
   "metadata": {
    "ExecuteTime": {
     "end_time": "2018-08-08T19:18:39.003281Z",
     "start_time": "2018-08-08T19:18:38.996816Z"
    }
   },
   "source": [
    "Check if the poverty label is the same for all members of a household"
   ]
  },
  {
   "cell_type": "code",
   "execution_count": null,
   "metadata": {
    "ExecuteTime": {
     "end_time": "2018-08-08T19:23:03.589125Z",
     "start_time": "2018-08-08T19:23:03.564003Z"
    }
   },
   "outputs": [],
   "source": [
    "target_aggregated = train_pd.groupby('idhogar').Target.aggregate(['min', 'max'])\n",
    "\n",
    "target_aggregated['poverty_different'] = target_aggregated['min'] != target_aggregated['max']\n",
    "target_aggregated.loc[target_aggregated['poverty_different']].head(10)"
   ]
  },
  {
   "cell_type": "markdown",
   "metadata": {},
   "source": [
    "It is not, meaning that members of a given household can have different poverty levels."
   ]
  },
  {
   "cell_type": "code",
   "execution_count": null,
   "metadata": {
    "ExecuteTime": {
     "end_time": "2018-08-08T19:23:40.227652Z",
     "start_time": "2018-08-08T19:23:40.203058Z"
    }
   },
   "outputs": [],
   "source": [
    "train_pd.loc[train_pd['idhogar'] == '0172ab1d9']"
   ]
  },
  {
   "cell_type": "markdown",
   "metadata": {},
   "source": [
    "Check if houses that have been fully paid have a montly payment - they should not."
   ]
  },
  {
   "cell_type": "code",
   "execution_count": null,
   "metadata": {},
   "outputs": [],
   "source": [
    "train_pd.loc[(train_pd['tipovivi1'] == 1) & (~np.isnan(train_pd['v2a1']))] # GOOD"
   ]
  },
  {
   "cell_type": "code",
   "execution_count": null,
   "metadata": {},
   "outputs": [],
   "source": [
    "len(train_pd.columns)"
   ]
  },
  {
   "cell_type": "markdown",
   "metadata": {},
   "source": [
    "# Prepare data"
   ]
  },
  {
   "cell_type": "markdown",
   "metadata": {},
   "source": [
    "Drop some unneeded columns"
   ]
  },
  {
   "cell_type": "code",
   "execution_count": 5,
   "metadata": {},
   "outputs": [
    {
     "data": {
      "text/plain": [
       "135"
      ]
     },
     "execution_count": 5,
     "metadata": {},
     "output_type": "execute_result"
    }
   ],
   "source": [
    "# the columns (SQBage, agesq) and (tamhog, hhsize, hogar_total) are identical - REMOVE THEM\n",
    "train_pd.drop(columns=['SQBage', 'tamhog', 'hogar_total'], inplace=True)\n",
    "# drop interaction columns ['edjefe', 'edjefa']\n",
    "train_pd.drop(columns=['edjefe', 'edjefa', 'SQBedjefe'], inplace=True)\n",
    "# drop dependency and its square - mixed numerical and alphanumeric values, unclear contribution\n",
    "train_pd.drop(columns=['dependency', 'SQBdependency'], inplace=True)\n",
    "\n",
    "len(train_pd.columns)"
   ]
  },
  {
   "cell_type": "markdown",
   "metadata": {},
   "source": [
    "Check the target labels and rebalance if necessary"
   ]
  },
  {
   "cell_type": "code",
   "execution_count": 7,
   "metadata": {},
   "outputs": [
    {
     "data": {
      "text/plain": [
       "<matplotlib.axes._subplots.AxesSubplot at 0x100b7fd0>"
      ]
     },
     "execution_count": 7,
     "metadata": {},
     "output_type": "execute_result"
    },
    {
     "data": {
      "image/png": "[encoded data removed]",
      "text/plain": [
       "<matplotlib.figure.Figure at 0xfc7fdd8>"
      ]
     },
     "metadata": {},
     "output_type": "display_data"
    }
   ],
   "source": [
    "train_pd.Target.value_counts().plot(kind='bar')"
   ]
  },
  {
   "cell_type": "code",
   "execution_count": 8,
   "metadata": {},
   "outputs": [
    {
     "name": "stdout",
     "output_type": "stream",
     "text": [
      "4    5996\n",
      "2    1597\n",
      "3    1209\n",
      "1     755\n",
      "Name: Target, dtype: int64\n",
      "4    0.627394\n",
      "2    0.167103\n",
      "3    0.126504\n",
      "1    0.079000\n",
      "Name: Target, dtype: float64\n",
      "9557\n"
     ]
    }
   ],
   "source": [
    "# compute the disbalance\n",
    "print(train_pd.Target.value_counts())\n",
    "print(train_pd.Target.value_counts(normalize=True))\n",
    "print(len(train_pd))"
   ]
  },
  {
   "cell_type": "markdown",
   "metadata": {},
   "source": [
    "# Define the network"
   ]
  },
  {
   "cell_type": "code",
   "execution_count": 45,
   "metadata": {},
   "outputs": [],
   "source": [
    "from keras.models import Sequential\n",
    "from keras.layers import Dense, Activation, Dropout, BatchNormalization\n",
    "from keras.optimizers import RMSprop, Adam\n",
    "from keras.utils import vis_utils\n",
    "\n",
    "def instantiate_model():\n",
    "    m = Sequential([\n",
    "        Dense(units=60, input_shape=(132,), activation='relu', use_bias=True, kernel_initializer='glorot_normal'),\n",
    "        Dense(units=40, activation='relu', use_bias=True, kernel_initializer='glorot_normal'),\n",
    "        Dropout(rate=0.3),\n",
    "        Dense(units=10, activation='relu', use_bias=True, kernel_initializer='glorot_normal'),\n",
    "        Dropout(rate=0.1),\n",
    "        Dense(units=4, activation='softmax', use_bias=True, kernel_initializer='glorot_normal')\n",
    "    ])\n",
    "    m.compile(loss='categorical_crossentropy', optimizer='adam', metrics=['accuracy'])\n",
    "    return m\n",
    "\n",
    "# define custom F1 metric\n",
    "# taken from https://medium.com/@thongonary/how-to-compute-f1-score-for-each-epoch-in-keras-a1acd17715a2\n",
    "\n",
    "class Metrics(Callback):\n",
    "    def on_train_begin(self, logs={}):\n",
    "        self.val_f1s = []\n",
    "        self.val_recalls = []\n",
    "        self.val_precisions = []\n",
    "        \n",
    "    def on_epoch_end(self, epoch, logs={}):\n",
    "        \n",
    "        val_predict = (np.asarray(self.model.predict(self.validation_data[0]))).round()\n",
    "        val_targ = self.validation_data[1]\n",
    "        Tracer()() \n",
    "        _val_f1 = f1_score(val_targ, val_predict, average=\"macro\")\n",
    "        _val_recall = recall_score(val_targ, val_predict, average=\"macro\")\n",
    "        _val_precision = precision_score(val_targ, val_predict, average=\"macro\")\n",
    "\n",
    "        self.val_f1s.append(_val_f1)\n",
    "        self.val_recalls.append(_val_recall)\n",
    "        self.val_precisions.append(_val_precision)\n",
    "        print(\" - val_f1: %f | val_precision: %f | val_recall %f\"%(_val_f1, _val_precision, _val_recall))\n",
    "        return\n",
    "\n",
    "metrics = Metrics()\n",
    "\n"
   ]
  },
  {
   "cell_type": "code",
   "execution_count": 46,
   "metadata": {},
   "outputs": [
    {
     "name": "stderr",
     "output_type": "stream",
     "text": [
      "C:\\Users\\M0205192\\AppData\\Local\\Continuum\\anaconda3\\lib\\site-packages\\sklearn\\model_selection\\_split.py:2026: FutureWarning: From version 0.21, test_size will always complement train_size unless both are specified.\n",
      "  FutureWarning)\n"
     ]
    }
   ],
   "source": [
    "# prepare the data\n",
    "# split \n",
    "\n",
    "# convert all NaNs to 0 - big assumption\n",
    "train_pd = train_pd.fillna(0)\n",
    "#\n",
    "\n",
    "input_train, input_test, \\\n",
    "target_train, target_test = train_test_split(train_pd.loc[:, ~train_pd.columns.isin(['idhogar', 'Id', 'Target'])].values,\n",
    "                                             train_pd['Target'].values,\n",
    "                                             train_size=0.7)\n",
    "\n",
    "# now resample \n",
    "def SMOTE_resample(x, y):\n",
    "    max_label = pd.Series(y).value_counts().iloc[0]\n",
    "    sm = SMOTE(random_state=42, ratio={1:max_label, 2:max_label, 3:max_label})\n",
    "    x_res, y_res = sm.fit_sample(x, y)\n",
    "    return x_res, y_res\n",
    "\n",
    "input_train2, target_train2 = SMOTE_resample(input_train, target_train)\n"
   ]
  },
  {
   "cell_type": "code",
   "execution_count": 57,
   "metadata": {},
   "outputs": [
    {
     "name": "stdout",
     "output_type": "stream",
     "text": [
      "Train on 16784 samples, validate on 2868 samples\n",
      "Epoch 1/100\n",
      "16784/16784 [==============================] - 2s 117us/step - loss: 5.2545 - acc: 0.2505 - val_loss: 5.0969 - val_acc: 0.0760\n"
     ]
    },
    {
     "name": "stderr",
     "output_type": "stream",
     "text": [
      "C:\\Users\\M0205192\\AppData\\Local\\Continuum\\anaconda3\\lib\\site-packages\\ipykernel_launcher.py:31: DeprecationWarning: `Tracer` is deprecated since version 5.1, directly use `IPython.core.debugger.Pdb.set_trace()`\n"
     ]
    },
    {
     "name": "stdout",
     "output_type": "stream",
     "text": [
      "> \u001b[1;32m<ipython-input-45-02eb4497e060>\u001b[0m(32)\u001b[0;36mon_epoch_end\u001b[1;34m()\u001b[0m\n",
      "\u001b[1;32m     30 \u001b[1;33m        \u001b[0mval_targ\u001b[0m \u001b[1;33m=\u001b[0m \u001b[0mself\u001b[0m\u001b[1;33m.\u001b[0m\u001b[0mvalidation_data\u001b[0m\u001b[1;33m[\u001b[0m\u001b[1;36m1\u001b[0m\u001b[1;33m]\u001b[0m\u001b[1;33m\u001b[0m\u001b[0m\n",
      "\u001b[0m\u001b[1;32m     31 \u001b[1;33m        \u001b[0mTracer\u001b[0m\u001b[1;33m(\u001b[0m\u001b[1;33m)\u001b[0m\u001b[1;33m(\u001b[0m\u001b[1;33m)\u001b[0m\u001b[1;33m\u001b[0m\u001b[0m\n",
      "\u001b[0m\u001b[1;32m---> 32 \u001b[1;33m        \u001b[0m_val_f1\u001b[0m \u001b[1;33m=\u001b[0m \u001b[0mf1_score\u001b[0m\u001b[1;33m(\u001b[0m\u001b[0mval_targ\u001b[0m\u001b[1;33m,\u001b[0m \u001b[0mval_predict\u001b[0m\u001b[1;33m,\u001b[0m \u001b[0maverage\u001b[0m\u001b[1;33m=\u001b[0m\u001b[1;34m\"macro\"\u001b[0m\u001b[1;33m)\u001b[0m\u001b[1;33m\u001b[0m\u001b[0m\n",
      "\u001b[0m\u001b[1;32m     33 \u001b[1;33m        \u001b[0m_val_recall\u001b[0m \u001b[1;33m=\u001b[0m \u001b[0mrecall_score\u001b[0m\u001b[1;33m(\u001b[0m\u001b[0mval_targ\u001b[0m\u001b[1;33m,\u001b[0m \u001b[0mval_predict\u001b[0m\u001b[1;33m,\u001b[0m \u001b[0maverage\u001b[0m\u001b[1;33m=\u001b[0m\u001b[1;34m\"macro\"\u001b[0m\u001b[1;33m)\u001b[0m\u001b[1;33m\u001b[0m\u001b[0m\n",
      "\u001b[0m\u001b[1;32m     34 \u001b[1;33m        \u001b[0m_val_precision\u001b[0m \u001b[1;33m=\u001b[0m \u001b[0mprecision_score\u001b[0m\u001b[1;33m(\u001b[0m\u001b[0mval_targ\u001b[0m\u001b[1;33m,\u001b[0m \u001b[0mval_predict\u001b[0m\u001b[1;33m,\u001b[0m \u001b[0maverage\u001b[0m\u001b[1;33m=\u001b[0m\u001b[1;34m\"macro\"\u001b[0m\u001b[1;33m)\u001b[0m\u001b[1;33m\u001b[0m\u001b[0m\n",
      "\u001b[0m\n",
      "ipdb> q\n",
      "Exiting Debugger.\n"
     ]
    }
   ],
   "source": [
    "model = instantiate_model()\n",
    "\n",
    "model.fit(input_train2, np_utils.to_categorical(target_train2-1), \n",
    "          validation_data = (input_test, np_utils.to_categorical(target_test-1)),\n",
    "          epochs = 100, verbose = 1,\n",
    "         callbacks = [metrics])\n",
    "\n",
    "# 0, 0, 0, 1 - not represented\n",
    "# 0, 0, 1, 0 - not represented\n",
    "# 1, 0, 0, 0 - barely represented\n",
    "# 0, 1, 0, 0 - overwhelmingly represented - target 4"
   ]
  },
  {
   "cell_type": "code",
   "execution_count": null,
   "metadata": {},
   "outputs": [],
   "source": [
    "#  val_f1: 0.235240 | val_precision: 0.584472 | val_recall 0.207276"
   ]
  },
  {
   "cell_type": "code",
   "execution_count": 58,
   "metadata": {},
   "outputs": [
    {
     "data": {
      "text/plain": [
       "16784"
      ]
     },
     "execution_count": 58,
     "metadata": {},
     "output_type": "execute_result"
    }
   ],
   "source": [
    "len(input_train2)"
   ]
  },
  {
   "cell_type": "code",
   "execution_count": 49,
   "metadata": {},
   "outputs": [
    {
     "data": {
      "text/plain": [
       "array([[1., 0., 0., 0.],\n",
       "       [0., 1., 0., 0.],\n",
       "       [0., 0., 1., 0.],\n",
       "       [0., 0., 0., 1.]], dtype=float32)"
      ]
     },
     "execution_count": 49,
     "metadata": {},
     "output_type": "execute_result"
    }
   ],
   "source": [
    "np_utils.to_categorical(np.array([0,1,2,3]))"
   ]
  },
  {
   "cell_type": "code",
   "execution_count": 50,
   "metadata": {},
   "outputs": [
    {
     "data": {
      "text/plain": [
       "array([4, 4, 4, ..., 3, 3, 3], dtype=int64)"
      ]
     },
     "execution_count": 50,
     "metadata": {},
     "output_type": "execute_result"
    }
   ],
   "source": [
    "target_train2"
   ]
  },
  {
   "cell_type": "code",
   "execution_count": 54,
   "metadata": {},
   "outputs": [
    {
     "data": {
      "text/plain": [
       "<matplotlib.axes._subplots.AxesSubplot at 0x1ab3b128>"
      ]
     },
     "execution_count": 54,
     "metadata": {},
     "output_type": "execute_result"
    },
    {
     "data": {
      "image/png": "[encoded data removed]",
      "text/plain": [
       "<matplotlib.figure.Figure at 0x1a9f9e48>"
      ]
     },
     "metadata": {},
     "output_type": "display_data"
    }
   ],
   "source": [
    "pd.Series(target_test).value_counts().plot(kind='bar')"
   ]
  },
  {
   "cell_type": "code",
   "execution_count": 52,
   "metadata": {},
   "outputs": [
    {
     "data": {
      "text/plain": [
       "array([[0.00000000e+00, 0.00000000e+00, 4.00000000e+00, ...,\n",
       "        4.00000000e+00, 1.44000000e+02, 9.00000000e+00],\n",
       "       [0.00000000e+00, 0.00000000e+00, 4.00000000e+00, ...,\n",
       "        1.00000000e+00, 6.40000000e+01, 3.84400000e+03],\n",
       "       [0.00000000e+00, 0.00000000e+00, 6.00000000e+00, ...,\n",
       "        2.25000000e+00, 1.04039990e+02, 4.00000000e+02],\n",
       "       ...,\n",
       "       [6.00000000e+04, 0.00000000e+00, 3.16953231e+00, ...,\n",
       "        8.38780001e+00, 1.17609354e+02, 5.91093538e+02],\n",
       "       [0.00000000e+00, 0.00000000e+00, 4.00000000e+00, ...,\n",
       "        5.38966016e+00, 4.35485254e+01, 1.22500000e+03],\n",
       "       [0.00000000e+00, 0.00000000e+00, 4.77147334e+00, ...,\n",
       "        7.07053310e-01, 5.06568182e+01, 1.44400000e+03]])"
      ]
     },
     "execution_count": 52,
     "metadata": {},
     "output_type": "execute_result"
    }
   ],
   "source": [
    "input_train2"
   ]
  },
  {
   "cell_type": "code",
   "execution_count": null,
   "metadata": {},
   "outputs": [],
   "source": []
  }
 ],
 "metadata": {
  "kernelspec": {
   "display_name": "Python 3",
   "language": "python",
   "name": "python3"
  },
  "language_info": {
   "codemirror_mode": {
    "name": "ipython",
    "version": 3
   },
   "file_extension": ".py",
   "mimetype": "text/x-python",
   "name": "python",
   "nbconvert_exporter": "python",
   "pygments_lexer": "ipython3",
   "version": "3.6.4"
  },
  "toc": {
   "toc_cell": false,
   "toc_number_sections": true,
   "toc_threshold": 6,
   "toc_window_display": false
  }
 },
 "nbformat": 4,
 "nbformat_minor": 2
}
