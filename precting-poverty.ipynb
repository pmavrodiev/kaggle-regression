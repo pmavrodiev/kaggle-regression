{
 "cells": [
  {
   "cell_type": "code",
   "execution_count": 109,
   "metadata": {
    "ExecuteTime": {
     "end_time": "2018-08-08T19:09:01.266884Z",
     "start_time": "2018-08-08T19:08:58.737800Z"
    }
   },
   "outputs": [
    {
     "name": "stdout",
     "output_type": "stream",
     "text": [
      "1.9.0\n",
      "2.2.2\n"
     ]
    }
   ],
   "source": [
    "import pandas as pd\n",
    "import tensorflow as tf\n",
    "import keras\n",
    "import os.path\n",
    "import numpy as np\n",
    "\n",
    "from keras.utils import np_utils\n",
    "from datetime import datetime\n",
    "from sklearn.model_selection import train_test_split\n",
    "\n",
    "print(tf.VERSION)\n",
    "print(keras.__version__)"
   ]
  },
  {
   "cell_type": "markdown",
   "metadata": {},
   "source": [
    "# Read-in data"
   ]
  },
  {
   "cell_type": "code",
   "execution_count": 110,
   "metadata": {
    "ExecuteTime": {
     "end_time": "2018-08-08T19:55:16.164982Z",
     "start_time": "2018-08-08T19:55:16.015219Z"
    }
   },
   "outputs": [
    {
     "data": {
      "text/plain": [
       "135"
      ]
     },
     "execution_count": 110,
     "metadata": {},
     "output_type": "execute_result"
    }
   ],
   "source": [
    "train_pd = pd.read_csv('./datasets/train.csv', sep=',', header=0)\n",
    "# the columns (SQBage, agesq) and (tamhog, hhsize, hogar_total) are identical - REMOVE THEM\n",
    "train_pd.drop(columns=['SQBage', 'tamhog', 'hogar_total'], inplace=True)\n",
    "# drop interaction columns ['edjefe', 'edjefa']\n",
    "train_pd.drop(columns=['edjefe', 'edjefa', 'SQBedjefe'], inplace=True)\n",
    "# drop dependency and its square - mixed numerical and alphanumeric values, unclear contribution\n",
    "train_pd.drop(columns=['dependency', 'SQBdependency'], inplace=True)\n",
    "\n",
    "len(train_pd.columns)"
   ]
  },
  {
   "cell_type": "markdown",
   "metadata": {},
   "source": [
    "## Getting to know the data"
   ]
  },
  {
   "cell_type": "markdown",
   "metadata": {},
   "source": [
    "Check if there is more than 1 household head per household\n",
    "\n",
    "Group by *idhogar* (household key) and then check column *parentesco1*"
   ]
  },
  {
   "cell_type": "code",
   "execution_count": 3,
   "metadata": {
    "ExecuteTime": {
     "end_time": "2018-08-08T19:13:26.261061Z",
     "start_time": "2018-08-08T19:13:26.247558Z"
    }
   },
   "outputs": [],
   "source": [
    "idhogar_aggregated = train_pd.groupby('idhogar').parentesco1.sum()"
   ]
  },
  {
   "cell_type": "code",
   "execution_count": 4,
   "metadata": {
    "ExecuteTime": {
     "end_time": "2018-08-08T19:14:44.642823Z",
     "start_time": "2018-08-08T19:14:44.637232Z"
    }
   },
   "outputs": [
    {
     "data": {
      "text/plain": [
       "idhogar\n",
       "03c6bdf85    0\n",
       "09b195e7a    0\n",
       "1367ab31d    0\n",
       "1bc617b23    0\n",
       "374ca5a19    0\n",
       "61c10e099    0\n",
       "6b1b2405f    0\n",
       "896fe6d3e    0\n",
       "a0812ef17    0\n",
       "ad687ad89    0\n",
       "b1f4d89d7    0\n",
       "bfd5067c2    0\n",
       "c0c8a5013    0\n",
       "d363d9183    0\n",
       "f2bfa75c4    0\n",
       "Name: parentesco1, dtype: int64"
      ]
     },
     "execution_count": 4,
     "metadata": {},
     "output_type": "execute_result"
    }
   ],
   "source": [
    "idhogar_aggregated[idhogar_aggregated != 1]"
   ]
  },
  {
   "cell_type": "markdown",
   "metadata": {},
   "source": [
    "There are 15 households with no household head"
   ]
  },
  {
   "cell_type": "markdown",
   "metadata": {
    "ExecuteTime": {
     "end_time": "2018-08-08T19:18:39.003281Z",
     "start_time": "2018-08-08T19:18:38.996816Z"
    }
   },
   "source": [
    "Check if the poverty label is the same for all members of a household"
   ]
  },
  {
   "cell_type": "code",
   "execution_count": 5,
   "metadata": {
    "ExecuteTime": {
     "end_time": "2018-08-08T19:23:03.589125Z",
     "start_time": "2018-08-08T19:23:03.564003Z"
    }
   },
   "outputs": [
    {
     "data": {
      "text/html": [
       "<div>\n",
       "<style scoped>\n",
       "    .dataframe tbody tr th:only-of-type {\n",
       "        vertical-align: middle;\n",
       "    }\n",
       "\n",
       "    .dataframe tbody tr th {\n",
       "        vertical-align: top;\n",
       "    }\n",
       "\n",
       "    .dataframe thead th {\n",
       "        text-align: right;\n",
       "    }\n",
       "</style>\n",
       "<table border=\"1\" class=\"dataframe\">\n",
       "  <thead>\n",
       "    <tr style=\"text-align: right;\">\n",
       "      <th></th>\n",
       "      <th>min</th>\n",
       "      <th>max</th>\n",
       "      <th>poverty_different</th>\n",
       "    </tr>\n",
       "    <tr>\n",
       "      <th>idhogar</th>\n",
       "      <th></th>\n",
       "      <th></th>\n",
       "      <th></th>\n",
       "    </tr>\n",
       "  </thead>\n",
       "  <tbody>\n",
       "    <tr>\n",
       "      <th>0172ab1d9</th>\n",
       "      <td>2</td>\n",
       "      <td>3</td>\n",
       "      <td>True</td>\n",
       "    </tr>\n",
       "    <tr>\n",
       "      <th>03f4e5f4d</th>\n",
       "      <td>1</td>\n",
       "      <td>2</td>\n",
       "      <td>True</td>\n",
       "    </tr>\n",
       "    <tr>\n",
       "      <th>0511912b6</th>\n",
       "      <td>3</td>\n",
       "      <td>4</td>\n",
       "      <td>True</td>\n",
       "    </tr>\n",
       "    <tr>\n",
       "      <th>078a0b6e2</th>\n",
       "      <td>1</td>\n",
       "      <td>2</td>\n",
       "      <td>True</td>\n",
       "    </tr>\n",
       "    <tr>\n",
       "      <th>09e25d616</th>\n",
       "      <td>1</td>\n",
       "      <td>2</td>\n",
       "      <td>True</td>\n",
       "    </tr>\n",
       "    <tr>\n",
       "      <th>0f3e65c83</th>\n",
       "      <td>1</td>\n",
       "      <td>2</td>\n",
       "      <td>True</td>\n",
       "    </tr>\n",
       "    <tr>\n",
       "      <th>0f9494d3a</th>\n",
       "      <td>2</td>\n",
       "      <td>3</td>\n",
       "      <td>True</td>\n",
       "    </tr>\n",
       "    <tr>\n",
       "      <th>15a891635</th>\n",
       "      <td>1</td>\n",
       "      <td>2</td>\n",
       "      <td>True</td>\n",
       "    </tr>\n",
       "    <tr>\n",
       "      <th>17fb04a62</th>\n",
       "      <td>1</td>\n",
       "      <td>2</td>\n",
       "      <td>True</td>\n",
       "    </tr>\n",
       "    <tr>\n",
       "      <th>18832b840</th>\n",
       "      <td>2</td>\n",
       "      <td>3</td>\n",
       "      <td>True</td>\n",
       "    </tr>\n",
       "  </tbody>\n",
       "</table>\n",
       "</div>"
      ],
      "text/plain": [
       "           min  max  poverty_different\n",
       "idhogar                               \n",
       "0172ab1d9    2    3               True\n",
       "03f4e5f4d    1    2               True\n",
       "0511912b6    3    4               True\n",
       "078a0b6e2    1    2               True\n",
       "09e25d616    1    2               True\n",
       "0f3e65c83    1    2               True\n",
       "0f9494d3a    2    3               True\n",
       "15a891635    1    2               True\n",
       "17fb04a62    1    2               True\n",
       "18832b840    2    3               True"
      ]
     },
     "execution_count": 5,
     "metadata": {},
     "output_type": "execute_result"
    }
   ],
   "source": [
    "target_aggregated = train_pd.groupby('idhogar').Target.aggregate(['min', 'max'])\n",
    "\n",
    "target_aggregated['poverty_different'] = target_aggregated['min'] != target_aggregated['max']\n",
    "target_aggregated.loc[target_aggregated['poverty_different']].head(10)"
   ]
  },
  {
   "cell_type": "markdown",
   "metadata": {},
   "source": [
    "It is not, meaning that members of a given household can have different poverty levels."
   ]
  },
  {
   "cell_type": "code",
   "execution_count": 13,
   "metadata": {
    "ExecuteTime": {
     "end_time": "2018-08-08T19:23:40.227652Z",
     "start_time": "2018-08-08T19:23:40.203058Z"
    }
   },
   "outputs": [
    {
     "data": {
      "text/html": [
       "<div>\n",
       "<style scoped>\n",
       "    .dataframe tbody tr th:only-of-type {\n",
       "        vertical-align: middle;\n",
       "    }\n",
       "\n",
       "    .dataframe tbody tr th {\n",
       "        vertical-align: top;\n",
       "    }\n",
       "\n",
       "    .dataframe thead th {\n",
       "        text-align: right;\n",
       "    }\n",
       "</style>\n",
       "<table border=\"1\" class=\"dataframe\">\n",
       "  <thead>\n",
       "    <tr style=\"text-align: right;\">\n",
       "      <th></th>\n",
       "      <th>Id</th>\n",
       "      <th>v2a1</th>\n",
       "      <th>hacdor</th>\n",
       "      <th>rooms</th>\n",
       "      <th>hacapo</th>\n",
       "      <th>v14a</th>\n",
       "      <th>refrig</th>\n",
       "      <th>v18q</th>\n",
       "      <th>v18q1</th>\n",
       "      <th>r4h1</th>\n",
       "      <th>...</th>\n",
       "      <th>SQBescolari</th>\n",
       "      <th>SQBage</th>\n",
       "      <th>SQBhogar_total</th>\n",
       "      <th>SQBedjefe</th>\n",
       "      <th>SQBhogar_nin</th>\n",
       "      <th>SQBovercrowding</th>\n",
       "      <th>SQBdependency</th>\n",
       "      <th>SQBmeaned</th>\n",
       "      <th>agesq</th>\n",
       "      <th>Target</th>\n",
       "    </tr>\n",
       "  </thead>\n",
       "  <tbody>\n",
       "    <tr>\n",
       "      <th>7651</th>\n",
       "      <td>ID_a5e2b0639</td>\n",
       "      <td>NaN</td>\n",
       "      <td>0</td>\n",
       "      <td>5</td>\n",
       "      <td>0</td>\n",
       "      <td>1</td>\n",
       "      <td>1</td>\n",
       "      <td>0</td>\n",
       "      <td>NaN</td>\n",
       "      <td>0</td>\n",
       "      <td>...</td>\n",
       "      <td>49</td>\n",
       "      <td>196</td>\n",
       "      <td>25</td>\n",
       "      <td>36</td>\n",
       "      <td>4</td>\n",
       "      <td>2.777778</td>\n",
       "      <td>0.444444</td>\n",
       "      <td>58.777775</td>\n",
       "      <td>196</td>\n",
       "      <td>3</td>\n",
       "    </tr>\n",
       "    <tr>\n",
       "      <th>7652</th>\n",
       "      <td>ID_5dfdf4ebe</td>\n",
       "      <td>NaN</td>\n",
       "      <td>0</td>\n",
       "      <td>5</td>\n",
       "      <td>0</td>\n",
       "      <td>1</td>\n",
       "      <td>1</td>\n",
       "      <td>0</td>\n",
       "      <td>NaN</td>\n",
       "      <td>0</td>\n",
       "      <td>...</td>\n",
       "      <td>100</td>\n",
       "      <td>289</td>\n",
       "      <td>25</td>\n",
       "      <td>36</td>\n",
       "      <td>4</td>\n",
       "      <td>2.777778</td>\n",
       "      <td>0.444444</td>\n",
       "      <td>58.777775</td>\n",
       "      <td>289</td>\n",
       "      <td>2</td>\n",
       "    </tr>\n",
       "    <tr>\n",
       "      <th>7653</th>\n",
       "      <td>ID_762e1fd96</td>\n",
       "      <td>NaN</td>\n",
       "      <td>0</td>\n",
       "      <td>5</td>\n",
       "      <td>0</td>\n",
       "      <td>1</td>\n",
       "      <td>1</td>\n",
       "      <td>0</td>\n",
       "      <td>NaN</td>\n",
       "      <td>0</td>\n",
       "      <td>...</td>\n",
       "      <td>36</td>\n",
       "      <td>2601</td>\n",
       "      <td>25</td>\n",
       "      <td>36</td>\n",
       "      <td>4</td>\n",
       "      <td>2.777778</td>\n",
       "      <td>0.444444</td>\n",
       "      <td>58.777775</td>\n",
       "      <td>2601</td>\n",
       "      <td>3</td>\n",
       "    </tr>\n",
       "    <tr>\n",
       "      <th>7654</th>\n",
       "      <td>ID_c76b87004</td>\n",
       "      <td>NaN</td>\n",
       "      <td>0</td>\n",
       "      <td>5</td>\n",
       "      <td>0</td>\n",
       "      <td>1</td>\n",
       "      <td>1</td>\n",
       "      <td>0</td>\n",
       "      <td>NaN</td>\n",
       "      <td>0</td>\n",
       "      <td>...</td>\n",
       "      <td>36</td>\n",
       "      <td>2304</td>\n",
       "      <td>25</td>\n",
       "      <td>36</td>\n",
       "      <td>4</td>\n",
       "      <td>2.777778</td>\n",
       "      <td>0.444444</td>\n",
       "      <td>58.777775</td>\n",
       "      <td>2304</td>\n",
       "      <td>3</td>\n",
       "    </tr>\n",
       "    <tr>\n",
       "      <th>7655</th>\n",
       "      <td>ID_1dffe3dcf</td>\n",
       "      <td>NaN</td>\n",
       "      <td>0</td>\n",
       "      <td>5</td>\n",
       "      <td>0</td>\n",
       "      <td>1</td>\n",
       "      <td>1</td>\n",
       "      <td>0</td>\n",
       "      <td>NaN</td>\n",
       "      <td>0</td>\n",
       "      <td>...</td>\n",
       "      <td>121</td>\n",
       "      <td>441</td>\n",
       "      <td>25</td>\n",
       "      <td>36</td>\n",
       "      <td>4</td>\n",
       "      <td>2.777778</td>\n",
       "      <td>0.444444</td>\n",
       "      <td>58.777775</td>\n",
       "      <td>441</td>\n",
       "      <td>2</td>\n",
       "    </tr>\n",
       "  </tbody>\n",
       "</table>\n",
       "<p>5 rows × 143 columns</p>\n",
       "</div>"
      ],
      "text/plain": [
       "                Id  v2a1  hacdor  rooms  hacapo  v14a  refrig  v18q  v18q1  \\\n",
       "7651  ID_a5e2b0639   NaN       0      5       0     1       1     0    NaN   \n",
       "7652  ID_5dfdf4ebe   NaN       0      5       0     1       1     0    NaN   \n",
       "7653  ID_762e1fd96   NaN       0      5       0     1       1     0    NaN   \n",
       "7654  ID_c76b87004   NaN       0      5       0     1       1     0    NaN   \n",
       "7655  ID_1dffe3dcf   NaN       0      5       0     1       1     0    NaN   \n",
       "\n",
       "      r4h1   ...    SQBescolari  SQBage  SQBhogar_total  SQBedjefe  \\\n",
       "7651     0   ...             49     196              25         36   \n",
       "7652     0   ...            100     289              25         36   \n",
       "7653     0   ...             36    2601              25         36   \n",
       "7654     0   ...             36    2304              25         36   \n",
       "7655     0   ...            121     441              25         36   \n",
       "\n",
       "      SQBhogar_nin  SQBovercrowding  SQBdependency  SQBmeaned  agesq  Target  \n",
       "7651             4         2.777778       0.444444  58.777775    196       3  \n",
       "7652             4         2.777778       0.444444  58.777775    289       2  \n",
       "7653             4         2.777778       0.444444  58.777775   2601       3  \n",
       "7654             4         2.777778       0.444444  58.777775   2304       3  \n",
       "7655             4         2.777778       0.444444  58.777775    441       2  \n",
       "\n",
       "[5 rows x 143 columns]"
      ]
     },
     "execution_count": 13,
     "metadata": {},
     "output_type": "execute_result"
    }
   ],
   "source": [
    "train_pd.loc[train_pd['idhogar'] == '0172ab1d9']"
   ]
  },
  {
   "cell_type": "markdown",
   "metadata": {},
   "source": [
    "Check if houses that have been fully paid have a montly payment - they should not."
   ]
  },
  {
   "cell_type": "code",
   "execution_count": 7,
   "metadata": {},
   "outputs": [
    {
     "data": {
      "text/html": [
       "<div>\n",
       "<style scoped>\n",
       "    .dataframe tbody tr th:only-of-type {\n",
       "        vertical-align: middle;\n",
       "    }\n",
       "\n",
       "    .dataframe tbody tr th {\n",
       "        vertical-align: top;\n",
       "    }\n",
       "\n",
       "    .dataframe thead th {\n",
       "        text-align: right;\n",
       "    }\n",
       "</style>\n",
       "<table border=\"1\" class=\"dataframe\">\n",
       "  <thead>\n",
       "    <tr style=\"text-align: right;\">\n",
       "      <th></th>\n",
       "      <th>Id</th>\n",
       "      <th>v2a1</th>\n",
       "      <th>hacdor</th>\n",
       "      <th>rooms</th>\n",
       "      <th>hacapo</th>\n",
       "      <th>v14a</th>\n",
       "      <th>refrig</th>\n",
       "      <th>v18q</th>\n",
       "      <th>v18q1</th>\n",
       "      <th>r4h1</th>\n",
       "      <th>...</th>\n",
       "      <th>age</th>\n",
       "      <th>SQBescolari</th>\n",
       "      <th>SQBhogar_total</th>\n",
       "      <th>SQBedjefe</th>\n",
       "      <th>SQBhogar_nin</th>\n",
       "      <th>SQBovercrowding</th>\n",
       "      <th>SQBdependency</th>\n",
       "      <th>SQBmeaned</th>\n",
       "      <th>agesq</th>\n",
       "      <th>Target</th>\n",
       "    </tr>\n",
       "  </thead>\n",
       "  <tbody>\n",
       "  </tbody>\n",
       "</table>\n",
       "<p>0 rows × 140 columns</p>\n",
       "</div>"
      ],
      "text/plain": [
       "Empty DataFrame\n",
       "Columns: [Id, v2a1, hacdor, rooms, hacapo, v14a, refrig, v18q, v18q1, r4h1, r4h2, r4h3, r4m1, r4m2, r4m3, r4t1, r4t2, r4t3, tamviv, escolari, rez_esc, hhsize, paredblolad, paredzocalo, paredpreb, pareddes, paredmad, paredzinc, paredfibras, paredother, pisomoscer, pisocemento, pisoother, pisonatur, pisonotiene, pisomadera, techozinc, techoentrepiso, techocane, techootro, cielorazo, abastaguadentro, abastaguafuera, abastaguano, public, planpri, noelec, coopele, sanitario1, sanitario2, sanitario3, sanitario5, sanitario6, energcocinar1, energcocinar2, energcocinar3, energcocinar4, elimbasu1, elimbasu2, elimbasu3, elimbasu4, elimbasu5, elimbasu6, epared1, epared2, epared3, etecho1, etecho2, etecho3, eviv1, eviv2, eviv3, dis, male, female, estadocivil1, estadocivil2, estadocivil3, estadocivil4, estadocivil5, estadocivil6, estadocivil7, parentesco1, parentesco2, parentesco3, parentesco4, parentesco5, parentesco6, parentesco7, parentesco8, parentesco9, parentesco10, parentesco11, parentesco12, idhogar, hogar_nin, hogar_adul, hogar_mayor, dependency, edjefe, ...]\n",
       "Index: []\n",
       "\n",
       "[0 rows x 140 columns]"
      ]
     },
     "execution_count": 7,
     "metadata": {},
     "output_type": "execute_result"
    }
   ],
   "source": [
    "train_pd.loc[(train_pd['tipovivi1'] == 1) & (~np.isnan(train_pd['v2a1']))] # GOOD"
   ]
  },
  {
   "cell_type": "code",
   "execution_count": 77,
   "metadata": {},
   "outputs": [
    {
     "data": {
      "text/plain": [
       "138"
      ]
     },
     "execution_count": 77,
     "metadata": {},
     "output_type": "execute_result"
    }
   ],
   "source": [
    "len(train_pd.columns)"
   ]
  },
  {
   "cell_type": "markdown",
   "metadata": {},
   "source": [
    "# Define the network"
   ]
  },
  {
   "cell_type": "code",
   "execution_count": 116,
   "metadata": {},
   "outputs": [],
   "source": [
    "from keras.models import Sequential\n",
    "from keras.layers import Dense, Activation, Dropout, BatchNormalization\n",
    "from keras.optimizers import RMSprop, Adam\n",
    "from keras.utils import vis_utils\n",
    "\n",
    "def instantiate_model():\n",
    "    m = Sequential([\n",
    "        Dense(units=60, input_shape=(132,), activation='relu', use_bias=True, init='glorot_normal'),\n",
    "        Dense(units=40, activation='sigmoid', use_bias=True, init='glorot_normal'),\n",
    "        Dropout(rate=0.3),\n",
    "        Dense(units=10, activation='relu', use_bias=True, init='glorot_normal'),\n",
    "        Dropout(rate=0.1),\n",
    "        Dense(units=5, activation='softmax', use_bias=True, kernel_initializer='glorot_normal')\n",
    "    ])\n",
    "    m.compile(loss='categorical_crossentropy', optimizer='adam', metrics=['acc'])\n",
    "    return m\n"
   ]
  },
  {
   "cell_type": "code",
   "execution_count": 117,
   "metadata": {},
   "outputs": [
    {
     "name": "stderr",
     "output_type": "stream",
     "text": [
      "C:\\Users\\M0205192\\AppData\\Local\\Continuum\\anaconda3\\lib\\site-packages\\sklearn\\model_selection\\_split.py:2026: FutureWarning: From version 0.21, test_size will always complement train_size unless both are specified.\n",
      "  FutureWarning)\n"
     ]
    }
   ],
   "source": [
    "# prepare the data\n",
    "\n",
    "# convert all NaNs to 0 - big assumption\n",
    "train_pd = train_pd.fillna(0)\n",
    "\n",
    "# split \n",
    "# remove the id columns also\n",
    "input_train, input_test, \\\n",
    "target_train, target_test = train_test_split(train_pd.loc[:, ~train_pd.columns.isin(['idhogar', 'Id', 'Target'])].values,\n",
    "                                             train_pd['Target'].values,\n",
    "                                             train_size=0.7)"
   ]
  },
  {
   "cell_type": "code",
   "execution_count": 118,
   "metadata": {},
   "outputs": [
    {
     "name": "stderr",
     "output_type": "stream",
     "text": [
      "C:\\Users\\M0205192\\AppData\\Local\\Continuum\\anaconda3\\lib\\site-packages\\ipykernel_launcher.py:8: UserWarning: Update your `Dense` call to the Keras 2 API: `Dense(units=60, input_shape=(132,), activation=\"relu\", use_bias=True, kernel_initializer=\"glorot_normal\")`\n",
      "  \n",
      "C:\\Users\\M0205192\\AppData\\Local\\Continuum\\anaconda3\\lib\\site-packages\\ipykernel_launcher.py:9: UserWarning: Update your `Dense` call to the Keras 2 API: `Dense(units=40, activation=\"sigmoid\", use_bias=True, kernel_initializer=\"glorot_normal\")`\n",
      "  if __name__ == '__main__':\n",
      "C:\\Users\\M0205192\\AppData\\Local\\Continuum\\anaconda3\\lib\\site-packages\\ipykernel_launcher.py:11: UserWarning: Update your `Dense` call to the Keras 2 API: `Dense(units=10, activation=\"relu\", use_bias=True, kernel_initializer=\"glorot_normal\")`\n",
      "  # This is added back by InteractiveShellApp.init_path()\n",
      "C:\\Users\\M0205192\\AppData\\Local\\Continuum\\anaconda3\\lib\\site-packages\\ipykernel_launcher.py:3: UserWarning: The `nb_epoch` argument in `fit` has been renamed `epochs`.\n",
      "  This is separate from the ipykernel package so we can avoid doing imports until\n"
     ]
    },
    {
     "name": "stdout",
     "output_type": "stream",
     "text": [
      "Epoch 1/100\n",
      " - 1s - loss: 1.2095 - acc: 0.5750\n",
      "Epoch 2/100\n",
      " - 0s - loss: 1.0968 - acc: 0.6240\n",
      "Epoch 3/100\n",
      " - 0s - loss: 1.0615 - acc: 0.6292\n",
      "Epoch 4/100\n",
      " - 0s - loss: 1.0494 - acc: 0.6295\n",
      "Epoch 5/100\n",
      " - 0s - loss: 1.0330 - acc: 0.6322\n",
      "Epoch 6/100\n",
      " - 0s - loss: 1.0197 - acc: 0.6348\n",
      "Epoch 7/100\n",
      " - 0s - loss: 1.0188 - acc: 0.6363\n",
      "Epoch 8/100\n",
      " - 0s - loss: 1.0046 - acc: 0.6393\n",
      "Epoch 9/100\n",
      " - 0s - loss: 1.0008 - acc: 0.6391\n",
      "Epoch 10/100\n",
      " - 0s - loss: 1.0027 - acc: 0.6427\n",
      "Epoch 11/100\n",
      " - 0s - loss: 0.9990 - acc: 0.6428\n",
      "Epoch 12/100\n",
      " - 0s - loss: 0.9832 - acc: 0.6437\n",
      "Epoch 13/100\n",
      " - 1s - loss: 0.9740 - acc: 0.6475\n",
      "Epoch 14/100\n",
      " - 0s - loss: 0.9813 - acc: 0.6422\n",
      "Epoch 15/100\n",
      " - 0s - loss: 0.9724 - acc: 0.6428\n",
      "Epoch 16/100\n",
      " - 1s - loss: 0.9657 - acc: 0.6479\n",
      "Epoch 17/100\n",
      " - 0s - loss: 0.9634 - acc: 0.6503\n",
      "Epoch 18/100\n",
      " - 0s - loss: 0.9582 - acc: 0.6481\n",
      "Epoch 19/100\n",
      " - 0s - loss: 0.9501 - acc: 0.6541\n",
      "Epoch 20/100\n",
      " - 0s - loss: 0.9544 - acc: 0.6536\n",
      "Epoch 21/100\n",
      " - 1s - loss: 0.9556 - acc: 0.6505\n",
      "Epoch 22/100\n",
      " - 1s - loss: 0.9558 - acc: 0.6518\n",
      "Epoch 23/100\n",
      " - 0s - loss: 0.9497 - acc: 0.6547\n",
      "Epoch 24/100\n",
      " - 1s - loss: 0.9455 - acc: 0.6551\n",
      "Epoch 25/100\n",
      " - 1s - loss: 0.9512 - acc: 0.6490\n",
      "Epoch 26/100\n",
      " - 1s - loss: 0.9436 - acc: 0.6515\n",
      "Epoch 27/100\n",
      " - 1s - loss: 0.9406 - acc: 0.6535\n",
      "Epoch 28/100\n",
      " - 1s - loss: 0.9362 - acc: 0.6523\n",
      "Epoch 29/100\n",
      " - 1s - loss: 0.9375 - acc: 0.6529\n",
      "Epoch 30/100\n",
      " - 1s - loss: 0.9370 - acc: 0.6505\n",
      "Epoch 31/100\n",
      " - 1s - loss: 0.9289 - acc: 0.6520\n",
      "Epoch 32/100\n",
      " - 1s - loss: 0.9342 - acc: 0.6542\n",
      "Epoch 33/100\n",
      " - 1s - loss: 0.9298 - acc: 0.6556\n",
      "Epoch 34/100\n",
      " - 1s - loss: 0.9221 - acc: 0.6554\n",
      "Epoch 35/100\n",
      " - 0s - loss: 0.9321 - acc: 0.6544\n",
      "Epoch 36/100\n",
      " - 0s - loss: 0.9258 - acc: 0.6567\n",
      "Epoch 37/100\n",
      " - 1s - loss: 0.9298 - acc: 0.6563\n",
      "Epoch 38/100\n",
      " - 1s - loss: 0.9276 - acc: 0.6588\n",
      "Epoch 39/100\n",
      " - 1s - loss: 0.9203 - acc: 0.6567\n",
      "Epoch 40/100\n",
      " - 1s - loss: 0.9211 - acc: 0.6536\n",
      "Epoch 41/100\n",
      " - 1s - loss: 0.9234 - acc: 0.6544\n",
      "Epoch 42/100\n",
      " - 1s - loss: 0.9121 - acc: 0.6591\n",
      "Epoch 43/100\n",
      " - 1s - loss: 0.9112 - acc: 0.6599\n",
      "Epoch 44/100\n",
      " - 1s - loss: 0.9114 - acc: 0.6563\n",
      "Epoch 45/100\n",
      " - 0s - loss: 0.9196 - acc: 0.6565\n",
      "Epoch 46/100\n",
      " - 0s - loss: 0.9089 - acc: 0.6551\n",
      "Epoch 47/100\n",
      " - 1s - loss: 0.9145 - acc: 0.6597\n",
      "Epoch 48/100\n",
      " - 0s - loss: 0.9137 - acc: 0.6544\n",
      "Epoch 49/100\n",
      " - 1s - loss: 0.9081 - acc: 0.6618\n",
      "Epoch 50/100\n",
      " - 0s - loss: 0.9064 - acc: 0.6572\n",
      "Epoch 51/100\n",
      " - 1s - loss: 0.9000 - acc: 0.6576\n",
      "Epoch 52/100\n",
      " - 0s - loss: 0.9059 - acc: 0.6579\n",
      "Epoch 53/100\n",
      " - 1s - loss: 0.8972 - acc: 0.6596\n",
      "Epoch 54/100\n",
      " - 1s - loss: 0.9090 - acc: 0.6642\n",
      "Epoch 55/100\n",
      " - 0s - loss: 0.8991 - acc: 0.6594\n",
      "Epoch 56/100\n",
      " - 0s - loss: 0.8996 - acc: 0.6603\n",
      "Epoch 57/100\n",
      " - 1s - loss: 0.9025 - acc: 0.6576\n",
      "Epoch 58/100\n",
      " - 1s - loss: 0.9029 - acc: 0.6582\n",
      "Epoch 59/100\n",
      " - 0s - loss: 0.9008 - acc: 0.6556\n",
      "Epoch 60/100\n",
      " - 0s - loss: 0.8977 - acc: 0.6587\n",
      "Epoch 61/100\n",
      " - 0s - loss: 0.9109 - acc: 0.6600\n",
      "Epoch 62/100\n",
      " - 1s - loss: 0.9095 - acc: 0.6569\n",
      "Epoch 63/100\n",
      " - 1s - loss: 0.9025 - acc: 0.6633\n",
      "Epoch 64/100\n",
      " - 0s - loss: 0.9008 - acc: 0.6602\n",
      "Epoch 65/100\n",
      " - 0s - loss: 0.8938 - acc: 0.6624\n",
      "Epoch 66/100\n",
      " - 0s - loss: 0.8950 - acc: 0.6582\n",
      "Epoch 67/100\n",
      " - 1s - loss: 0.8905 - acc: 0.6623\n",
      "Epoch 68/100\n",
      " - 0s - loss: 0.8896 - acc: 0.6603\n",
      "Epoch 69/100\n",
      " - 0s - loss: 0.8887 - acc: 0.6623\n",
      "Epoch 70/100\n",
      " - 0s - loss: 0.8923 - acc: 0.6600\n",
      "Epoch 71/100\n",
      " - 0s - loss: 0.8865 - acc: 0.6605\n",
      "Epoch 72/100\n",
      " - 0s - loss: 0.8953 - acc: 0.6599\n",
      "Epoch 73/100\n",
      " - 1s - loss: 0.8928 - acc: 0.6590\n",
      "Epoch 74/100\n",
      " - 1s - loss: 0.8886 - acc: 0.6638\n",
      "Epoch 75/100\n",
      " - 0s - loss: 0.8870 - acc: 0.6636\n",
      "Epoch 76/100\n",
      " - 1s - loss: 0.8905 - acc: 0.6582\n",
      "Epoch 77/100\n",
      " - 0s - loss: 0.8833 - acc: 0.6612\n",
      "Epoch 78/100\n",
      " - 0s - loss: 0.8910 - acc: 0.6633\n",
      "Epoch 79/100\n",
      " - 0s - loss: 0.8844 - acc: 0.6623\n",
      "Epoch 80/100\n",
      " - 0s - loss: 0.8862 - acc: 0.6648\n",
      "Epoch 81/100\n",
      " - 0s - loss: 0.8831 - acc: 0.6636\n",
      "Epoch 82/100\n",
      " - 0s - loss: 0.8799 - acc: 0.6653\n",
      "Epoch 83/100\n",
      " - 0s - loss: 0.8827 - acc: 0.6656\n",
      "Epoch 84/100\n",
      " - 0s - loss: 0.8776 - acc: 0.6641\n",
      "Epoch 85/100\n",
      " - 1s - loss: 0.8775 - acc: 0.6633\n",
      "Epoch 86/100\n",
      " - 1s - loss: 0.8791 - acc: 0.6636\n",
      "Epoch 87/100\n",
      " - 0s - loss: 0.8783 - acc: 0.6660\n",
      "Epoch 88/100\n",
      " - 0s - loss: 0.8723 - acc: 0.6677\n",
      "Epoch 89/100\n",
      " - 0s - loss: 0.8743 - acc: 0.6675\n",
      "Epoch 90/100\n",
      " - 0s - loss: 0.8831 - acc: 0.6630\n",
      "Epoch 91/100\n",
      " - 1s - loss: 0.8772 - acc: 0.6678\n",
      "Epoch 92/100\n",
      " - 0s - loss: 0.8706 - acc: 0.6690\n",
      "Epoch 93/100\n",
      " - 1s - loss: 0.8782 - acc: 0.6647\n",
      "Epoch 94/100\n",
      " - 1s - loss: 0.8868 - acc: 0.6692\n",
      "Epoch 95/100\n",
      " - 1s - loss: 0.8765 - acc: 0.6669\n",
      "Epoch 96/100\n",
      " - 1s - loss: 0.8908 - acc: 0.6651\n",
      "Epoch 97/100\n",
      " - 0s - loss: 0.8791 - acc: 0.6636\n",
      "Epoch 98/100\n",
      " - 0s - loss: 0.8680 - acc: 0.6716\n",
      "Epoch 99/100\n",
      " - 0s - loss: 0.8626 - acc: 0.6713\n",
      "Epoch 100/100\n",
      " - 0s - loss: 0.8681 - acc: 0.6704\n"
     ]
    },
    {
     "data": {
      "text/plain": [
       "<keras.callbacks.History at 0x1b11c748>"
      ]
     },
     "execution_count": 118,
     "metadata": {},
     "output_type": "execute_result"
    }
   ],
   "source": [
    "model = instantiate_model()\n",
    "\n",
    "model.fit(input_train, np_utils.to_categorical(target_train), nb_epoch = 100, verbose = 2)\n",
    "\n"
   ]
  },
  {
   "cell_type": "code",
   "execution_count": null,
   "metadata": {},
   "outputs": [],
   "source": []
  }
 ],
 "metadata": {
  "kernelspec": {
   "display_name": "Python 3",
   "language": "python",
   "name": "python3"
  },
  "language_info": {
   "codemirror_mode": {
    "name": "ipython",
    "version": 3
   },
   "file_extension": ".py",
   "mimetype": "text/x-python",
   "name": "python",
   "nbconvert_exporter": "python",
   "pygments_lexer": "ipython3",
   "version": "3.6.4"
  },
  "toc": {
   "toc_cell": false,
   "toc_number_sections": true,
   "toc_threshold": 6,
   "toc_window_display": false
  }
 },
 "nbformat": 4,
 "nbformat_minor": 2
}
