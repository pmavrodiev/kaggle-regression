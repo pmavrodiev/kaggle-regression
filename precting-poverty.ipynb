{
 "cells": [
  {
   "cell_type": "code",
   "execution_count": 64,
   "metadata": {
    "ExecuteTime": {
     "end_time": "2018-08-08T19:09:01.266884Z",
     "start_time": "2018-08-08T19:08:58.737800Z"
    }
   },
   "outputs": [
    {
     "name": "stdout",
     "output_type": "stream",
     "text": [
      "1.9.0\n",
      "2.2.2\n"
     ]
    }
   ],
   "source": [
    "import pandas as pd\n",
    "import tensorflow as tf\n",
    "import keras\n",
    "import os.path\n",
    "import numpy as np\n",
    "\n",
    "from datetime import datetime\n",
    "\n",
    "import keras.backend as K\n",
    "from keras.utils import np_utils\n",
    "from keras.callbacks import Callback\n",
    "\n",
    "\n",
    "from sklearn.model_selection import train_test_split\n",
    "from sklearn.metrics import confusion_matrix, f1_score, precision_score, recall_score\n",
    "\n",
    "from IPython.core.debugger import Pdb\n",
    "\n",
    "from imblearn.over_sampling import SMOTE, RandomOverSampler\n",
    "\n",
    "from sklearn.ensemble import RandomForestClassifier, AdaBoostClassifier, GradientBoostingClassifier\n",
    "from xgboost import XGBClassifier\n",
    "\n",
    "# show warnings always\n",
    "# import warnings\n",
    "# warnings.filterwarnings('always')\n",
    "\n",
    "print(tf.VERSION)\n",
    "print(keras.__version__)"
   ]
  },
  {
   "cell_type": "markdown",
   "metadata": {},
   "source": [
    "# Read-in data"
   ]
  },
  {
   "cell_type": "code",
   "execution_count": 65,
   "metadata": {
    "ExecuteTime": {
     "end_time": "2018-08-08T19:55:16.164982Z",
     "start_time": "2018-08-08T19:55:16.015219Z"
    }
   },
   "outputs": [],
   "source": [
    "train_pd = pd.read_csv('./datasets/train.csv', sep=',', header=0)"
   ]
  },
  {
   "cell_type": "markdown",
   "metadata": {},
   "source": [
    "## Getting to know the data"
   ]
  },
  {
   "cell_type": "markdown",
   "metadata": {},
   "source": [
    "Check if there is more than 1 household head per household\n",
    "\n",
    "Group by *idhogar* (household key) and then check column *parentesco1*"
   ]
  },
  {
   "cell_type": "code",
   "execution_count": null,
   "metadata": {
    "ExecuteTime": {
     "end_time": "2018-08-08T19:13:26.261061Z",
     "start_time": "2018-08-08T19:13:26.247558Z"
    }
   },
   "outputs": [],
   "source": [
    "idhogar_aggregated = train_pd.groupby('idhogar').parentesco1.sum()"
   ]
  },
  {
   "cell_type": "code",
   "execution_count": null,
   "metadata": {
    "ExecuteTime": {
     "end_time": "2018-08-08T19:14:44.642823Z",
     "start_time": "2018-08-08T19:14:44.637232Z"
    }
   },
   "outputs": [],
   "source": [
    "idhogar_aggregated[idhogar_aggregated != 1]"
   ]
  },
  {
   "cell_type": "markdown",
   "metadata": {},
   "source": [
    "There are 15 households with no household head"
   ]
  },
  {
   "cell_type": "markdown",
   "metadata": {
    "ExecuteTime": {
     "end_time": "2018-08-08T19:18:39.003281Z",
     "start_time": "2018-08-08T19:18:38.996816Z"
    }
   },
   "source": [
    "Check if the poverty label is the same for all members of a household"
   ]
  },
  {
   "cell_type": "code",
   "execution_count": null,
   "metadata": {
    "ExecuteTime": {
     "end_time": "2018-08-08T19:23:03.589125Z",
     "start_time": "2018-08-08T19:23:03.564003Z"
    }
   },
   "outputs": [],
   "source": [
    "target_aggregated = train_pd.groupby('idhogar').Target.aggregate(['min', 'max'])\n",
    "\n",
    "target_aggregated['poverty_different'] = target_aggregated['min'] != target_aggregated['max']\n",
    "target_aggregated.loc[target_aggregated['poverty_different']].head(10)"
   ]
  },
  {
   "cell_type": "markdown",
   "metadata": {},
   "source": [
    "It is not, meaning that members of a given household can have different poverty levels."
   ]
  },
  {
   "cell_type": "code",
   "execution_count": null,
   "metadata": {
    "ExecuteTime": {
     "end_time": "2018-08-08T19:23:40.227652Z",
     "start_time": "2018-08-08T19:23:40.203058Z"
    }
   },
   "outputs": [],
   "source": [
    "train_pd.loc[train_pd['idhogar'] == '0172ab1d9']"
   ]
  },
  {
   "cell_type": "markdown",
   "metadata": {},
   "source": [
    "Check if houses that have been fully paid have a montly payment - they should not."
   ]
  },
  {
   "cell_type": "code",
   "execution_count": null,
   "metadata": {},
   "outputs": [],
   "source": [
    "train_pd.loc[(train_pd['tipovivi1'] == 1) & (~np.isnan(train_pd['v2a1']))] # GOOD"
   ]
  },
  {
   "cell_type": "code",
   "execution_count": null,
   "metadata": {},
   "outputs": [],
   "source": [
    "len(train_pd.columns)"
   ]
  },
  {
   "cell_type": "markdown",
   "metadata": {},
   "source": [
    "# Prepare data"
   ]
  },
  {
   "cell_type": "markdown",
   "metadata": {},
   "source": [
    "Drop some unneeded columns"
   ]
  },
  {
   "cell_type": "code",
   "execution_count": 66,
   "metadata": {},
   "outputs": [
    {
     "data": {
      "text/plain": [
       "130"
      ]
     },
     "execution_count": 66,
     "metadata": {},
     "output_type": "execute_result"
    }
   ],
   "source": [
    "# the columns (SQBage, agesq) and (tamhog, hhsize, hogar_total) are identical - REMOVE THEM\n",
    "train_pd.drop(columns=['SQBage', 'tamhog', 'hogar_total'], inplace=True)\n",
    "# drop interaction columns ['edjefe', 'edjefa']\n",
    "train_pd.drop(columns=['edjefe', 'edjefa', 'SQBedjefe'], inplace=True)\n",
    "# drop dependency and its square - mixed numerical and alphanumeric values, unclear contribution\n",
    "train_pd.drop(columns=['dependency', 'SQBdependency'], inplace=True)\n",
    "\n",
    "# Drop all the squared features\n",
    "train_pd.drop(columns=['agesq', 'SQBhogar_total', 'SQBhogar_nin', 'SQBovercrowding', 'SQBmeaned'], inplace=True)\n",
    "\n",
    "len(train_pd.columns)"
   ]
  },
  {
   "cell_type": "markdown",
   "metadata": {},
   "source": [
    "Check the target labels and rebalance if necessary"
   ]
  },
  {
   "cell_type": "code",
   "execution_count": 5,
   "metadata": {},
   "outputs": [
    {
     "data": {
      "text/plain": [
       "<matplotlib.axes._subplots.AxesSubplot at 0xffcf470>"
      ]
     },
     "execution_count": 5,
     "metadata": {},
     "output_type": "execute_result"
    },
    {
     "data": {
      "image/png": "[encoded data removed]",
      "text/plain": [
       "<matplotlib.figure.Figure at 0xff4aa90>"
      ]
     },
     "metadata": {},
     "output_type": "display_data"
    }
   ],
   "source": [
    "train_pd.Target.value_counts().plot(kind='bar')"
   ]
  },
  {
   "cell_type": "code",
   "execution_count": null,
   "metadata": {},
   "outputs": [],
   "source": [
    "# compute the disbalance\n",
    "print(train_pd.Target.value_counts())\n",
    "print(train_pd.Target.value_counts(normalize=True))\n",
    "print(len(train_pd))"
   ]
  },
  {
   "cell_type": "markdown",
   "metadata": {},
   "source": [
    "## Train-test split"
   ]
  },
  {
   "cell_type": "code",
   "execution_count": 67,
   "metadata": {},
   "outputs": [],
   "source": [
    "# Resampling methods\n",
    "\n",
    "def SMOTE_resample(x, y):\n",
    "    max_label = pd.Series(y).value_counts().iloc[0]\n",
    "    sm = SMOTE(random_state=42, ratio={1:max_label, 2:max_label, 3:max_label})\n",
    "    x_res, y_res = sm.fit_sample(x, y)\n",
    "    return x_res, y_res\n",
    "\n",
    "def naive_resample(x, y):\n",
    "    # simply sample with replacement\n",
    "    max_label = pd.Series(y).value_counts().iloc[0]\n",
    "    rus = RandomOverSampler(random_state=42, ratio={1:max_label, 2:max_label, 3:max_label})\n",
    "    x_res, y_res = rus.fit_sample(x, y)\n",
    "    return x_res, y_res\n",
    "    "
   ]
  },
  {
   "cell_type": "code",
   "execution_count": 70,
   "metadata": {},
   "outputs": [],
   "source": [
    "# prepare the data\n",
    "# split \n",
    "\n",
    "# convert all NaNs to 0 - big assumption\n",
    "train_pd = train_pd.fillna(0)\n",
    "#\n",
    "\n"
   ]
  },
  {
   "cell_type": "code",
   "execution_count": 68,
   "metadata": {},
   "outputs": [],
   "source": [
    "def CV_monte_carlo(model, N=10, trainining_size=0.8):\n",
    "    f1_scores = []\n",
    "    best_model = None\n",
    "    for n in range(N):\n",
    "        # split\n",
    "        input_train, input_test, \\\n",
    "        target_train, target_test = train_test_split(train_pd.loc[:, ~train_pd.columns.isin(['idhogar', 'Id', 'Target'])].values,\n",
    "                                             train_pd['Target'].values,\n",
    "                                             test_size=1-trainining_size)\n",
    "        input_train_rs, target_train_rs = naive_resample(input_train, target_train)\n",
    "        input_train_smote, target_train_smote = SMOTE_resample(input_train, target_train)\n",
    "        # fit and evaluate model\n",
    "        model.fit(input_train_rs, target_train_rs)\n",
    "        predicted = model.predict(input_test)\n",
    "        f1 = f1_score(target_test, predicted, average=\"macro\")\n",
    "        if len(f1_scores) > 0 and f1 > np.max(f1_scores):\n",
    "            best_model = model\n",
    "        f1_scores.append(f1)\n",
    "    \n",
    "    print(\"Min/Mean/Max F1-Score = %f / %f / %f \"%(np.min(f1_scores), np.mean(f1_scores), np.max(f1_scores)))\n",
    "    return f1_scores, best_model\n",
    "        "
   ]
  },
  {
   "cell_type": "markdown",
   "metadata": {},
   "source": [
    "# Non-DN approaches"
   ]
  },
  {
   "cell_type": "markdown",
   "metadata": {},
   "source": [
    "## Random Forest"
   ]
  },
  {
   "cell_type": "code",
   "execution_count": 53,
   "metadata": {},
   "outputs": [
    {
     "name": "stdout",
     "output_type": "stream",
     "text": [
      "Min/Mean/Max F1-Score = 0.890409 / 0.903711 / 0.926847 \n"
     ]
    }
   ],
   "source": [
    "rf_model = RandomForestClassifier(n_estimators=50, max_depth=None, random_state=0, warm_start=False)\n",
    "rf_scores, rf_best = CV_monte_carlo(rf_model)"
   ]
  },
  {
   "cell_type": "markdown",
   "metadata": {},
   "source": [
    "## AdaBoost"
   ]
  },
  {
   "cell_type": "code",
   "execution_count": 62,
   "metadata": {},
   "outputs": [
    {
     "name": "stdout",
     "output_type": "stream",
     "text": [
      "Min/Mean/Max F1-Score = 0.409123 / 0.444717 / 0.463671 \n"
     ]
    }
   ],
   "source": [
    "adaboost_model =  AdaBoostClassifier(n_estimators=100)\n",
    "adaboost_scores, adaboost_best = CV_monte_carlo(adaboost_model)"
   ]
  },
  {
   "cell_type": "markdown",
   "metadata": {},
   "source": [
    "## Gradient Tree Boosting"
   ]
  },
  {
   "cell_type": "code",
   "execution_count": null,
   "metadata": {},
   "outputs": [],
   "source": [
    "gtb_model = GradientBoostingClassifier(n_estimators=130, learning_rate=2, max_depth=5, random_state=0)\n",
    "gtb_scores, gtb_best = CV_monte_carlo(gtb_model)"
   ]
  },
  {
   "cell_type": "markdown",
   "metadata": {},
   "source": [
    "## XGBoost"
   ]
  },
  {
   "cell_type": "code",
   "execution_count": 80,
   "metadata": {},
   "outputs": [
    {
     "name": "stderr",
     "output_type": "stream",
     "text": [
      "C:\\Users\\M0205192\\AppData\\Local\\Continuum\\anaconda3\\lib\\site-packages\\sklearn\\preprocessing\\label.py:151: DeprecationWarning: The truth value of an empty array is ambiguous. Returning False, but in future this will result in an error. Use `array.size > 0` to check that an array is not empty.\n",
      "  if diff:\n",
      "C:\\Users\\M0205192\\AppData\\Local\\Continuum\\anaconda3\\lib\\site-packages\\sklearn\\preprocessing\\label.py:151: DeprecationWarning: The truth value of an empty array is ambiguous. Returning False, but in future this will result in an error. Use `array.size > 0` to check that an array is not empty.\n",
      "  if diff:\n",
      "C:\\Users\\M0205192\\AppData\\Local\\Continuum\\anaconda3\\lib\\site-packages\\sklearn\\preprocessing\\label.py:151: DeprecationWarning: The truth value of an empty array is ambiguous. Returning False, but in future this will result in an error. Use `array.size > 0` to check that an array is not empty.\n",
      "  if diff:\n"
     ]
    },
    {
     "name": "stdout",
     "output_type": "stream",
     "text": [
      "Min/Mean/Max F1-Score = 0.904190 / 0.917816 / 0.928624 \n"
     ]
    },
    {
     "name": "stderr",
     "output_type": "stream",
     "text": [
      "C:\\Users\\M0205192\\AppData\\Local\\Continuum\\anaconda3\\lib\\site-packages\\sklearn\\preprocessing\\label.py:151: DeprecationWarning: The truth value of an empty array is ambiguous. Returning False, but in future this will result in an error. Use `array.size > 0` to check that an array is not empty.\n",
      "  if diff:\n"
     ]
    }
   ],
   "source": [
    "xgboost_model = XGBClassifier(max_depth=100, n_estimators=100, learning_rate=1, n_jobs=50, booster='gbtree')\n",
    "xgboost_scores, xgboost_best = CV_monte_carlo(xgboost_model, N=4)"
   ]
  },
  {
   "cell_type": "markdown",
   "metadata": {},
   "source": [
    "# Define the network"
   ]
  },
  {
   "cell_type": "code",
   "execution_count": 8,
   "metadata": {},
   "outputs": [
    {
     "data": {
      "text/plain": [
       "<matplotlib.axes._subplots.AxesSubplot at 0x1015eb00>"
      ]
     },
     "execution_count": 8,
     "metadata": {},
     "output_type": "execute_result"
    },
    {
     "data": {
      "image/png": "[encoded data removed]",
      "text/plain": [
       "<matplotlib.figure.Figure at 0x101ca8d0>"
      ]
     },
     "metadata": {},
     "output_type": "display_data"
    }
   ],
   "source": [
    "pd.Series(target_test).value_counts().plot(kind='bar')"
   ]
  },
  {
   "cell_type": "code",
   "execution_count": 9,
   "metadata": {},
   "outputs": [],
   "source": [
    "from keras.models import Sequential\n",
    "from keras.layers import Dense, Activation, Dropout, BatchNormalization\n",
    "from keras.optimizers import RMSprop, Adam\n",
    "from keras.utils import vis_utils\n",
    "\n",
    "# define custom F1 metric\n",
    "# taken from https://medium.com/@thongonary/how-to-compute-f1-score-for-each-epoch-in-keras-a1acd17715a2\n",
    "\n",
    "class Metrics(Callback):\n",
    "    def __init__(self):\n",
    "        self.metric_optimal = 0\n",
    "    \n",
    "    def on_train_begin(self, logs={}):\n",
    "        self.val_f1s = []\n",
    "        self.val_recalls = []\n",
    "        self.val_precisions = []\n",
    "        \n",
    "    def on_epoch_end(self, epoch, logs={}):\n",
    "        \n",
    "        val_predict = (np.asarray(self.model.predict(self.validation_data[0]))).round()\n",
    "        val_targ = self.validation_data[1]\n",
    "        # Pdb().set_trace()\n",
    "        _val_f1 = f1_score(val_targ, val_predict, average=\"macro\")\n",
    "        _val_recall = recall_score(val_targ, val_predict, average=\"macro\")\n",
    "        _val_precision = precision_score(val_targ, val_predict, average=\"macro\")\n",
    "\n",
    "        if _val_f1 > self.metric_optimal:\n",
    "            # print(\" - Best model found with f1 score = %f. Checkpointing\"%_val_f1)\n",
    "            self.metric_optimal = _val_f1\n",
    "            self.model.save(self.model.name+'.h5')\n",
    "            \n",
    "        self.val_f1s.append(_val_f1)\n",
    "        self.val_recalls.append(_val_recall)\n",
    "        self.val_precisions.append(_val_precision)\n",
    "        # print(\" - val_f1: %f | val_precision: %f | val_recall %f\"%(_val_f1, _val_precision, _val_recall))\n",
    "        return\n",
    "    \n",
    "    def on_train_end(self, logs={}):\n",
    "        print('Best F1-Score for model %s = %f'%(self.model.name, self.metric_optimal))\n",
    "        \n",
    "def create_model(model_object, name):\n",
    "    model_object.compile(loss='categorical_crossentropy', optimizer='adam', metrics=['acc'])\n",
    "    model_object.name = name\n",
    "    return model_object\n",
    "\n",
    "all_models = [\n",
    "    create_model(Sequential([\n",
    "        Dense(units=60, input_shape=(127,), activation='relu', use_bias=True, kernel_initializer='glorot_uniform'),\n",
    "        Dense(units=40, activation='sigmoid', use_bias=True, kernel_initializer='glorot_uniform'),\n",
    "        Dropout(rate=0.1),\n",
    "        Dense(units=20, activation='sigmoid', use_bias=True, kernel_initializer='glorot_uniform'),\n",
    "        Dropout(rate=0.1),\n",
    "        Dense(units=4, activation='softmax', use_bias=True, kernel_initializer='glorot_uniform')\n",
    "    ]), name='model_v1'),\n",
    "    create_model(Sequential([\n",
    "        Dense(units=60, input_shape=(127,), activation='relu', use_bias=True, kernel_initializer='glorot_uniform'),\n",
    "        Dense(units=40, activation='sigmoid', use_bias=True, kernel_initializer='glorot_uniform'),\n",
    "        Dropout(rate=0.2),\n",
    "        Dense(units=20, activation='sigmoid', use_bias=True, kernel_initializer='glorot_uniform'),\n",
    "        Dropout(rate=0.2),\n",
    "        Dense(units=4, activation='softmax', use_bias=True, kernel_initializer='glorot_uniform')\n",
    "    ]), name='model_v2'),\n",
    "    create_model(Sequential([\n",
    "        Dense(units=60, input_shape=(127,), activation='relu', use_bias=True, kernel_initializer='glorot_uniform'),\n",
    "        Dense(units=40, activation='sigmoid', use_bias=True, kernel_initializer='glorot_uniform'),\n",
    "        Dropout(rate=0.3),\n",
    "        Dense(units=20, activation='sigmoid', use_bias=True, kernel_initializer='glorot_uniform'),\n",
    "        Dropout(rate=0.3),\n",
    "        Dense(units=4, activation='softmax', use_bias=True, kernel_initializer='glorot_uniform')\n",
    "    ]), name='model_v3'),\n",
    "    create_model(Sequential([\n",
    "        Dense(units=60, input_shape=(127,), activation='relu', use_bias=True, kernel_initializer='glorot_uniform'),\n",
    "        Dense(units=40, activation='sigmoid', use_bias=True, kernel_initializer='glorot_uniform'),\n",
    "        Dropout(rate=0.4),\n",
    "        Dense(units=20, activation='sigmoid', use_bias=True, kernel_initializer='glorot_uniform'),\n",
    "        Dropout(rate=0.4),\n",
    "        Dense(units=4, activation='softmax', use_bias=True, kernel_initializer='glorot_uniform')\n",
    "    ]), name='model_v4'),\n",
    "    create_model(Sequential([\n",
    "        Dense(units=60, input_shape=(127,), activation='relu', use_bias=True, kernel_initializer='glorot_uniform'),\n",
    "        Dense(units=40, activation='sigmoid', use_bias=True, kernel_initializer='glorot_uniform'),\n",
    "        Dropout(rate=0.5),\n",
    "        Dense(units=20, activation='sigmoid', use_bias=True, kernel_initializer='glorot_uniform'),\n",
    "        Dropout(rate=0.5),\n",
    "        Dense(units=4, activation='softmax', use_bias=True, kernel_initializer='glorot_uniform')\n",
    "    ]), name='model_v5'),\n",
    "    create_model(Sequential([\n",
    "        Dense(units=60, input_shape=(127,), activation='relu', use_bias=True, kernel_initializer='glorot_uniform'),\n",
    "        Dense(units=40, activation='sigmoid', use_bias=True, kernel_initializer='glorot_uniform'),\n",
    "        Dropout(rate=0.6),\n",
    "        Dense(units=20, activation='sigmoid', use_bias=True, kernel_initializer='glorot_uniform'),\n",
    "        Dropout(rate=0.6),\n",
    "        Dense(units=4, activation='softmax', use_bias=True, kernel_initializer='glorot_uniform')\n",
    "    ]), name='model_v6'),\n",
    "        create_model(Sequential([\n",
    "        Dense(units=60, input_shape=(127,), activation='relu', use_bias=True, kernel_initializer='glorot_uniform'),\n",
    "        Dense(units=40, activation='sigmoid', use_bias=True, kernel_initializer='glorot_uniform'),\n",
    "        Dropout(rate=0.7),\n",
    "        Dense(units=20, activation='sigmoid', use_bias=True, kernel_initializer='glorot_uniform'),\n",
    "        Dropout(rate=0.7),\n",
    "        Dense(units=4, activation='softmax', use_bias=True, kernel_initializer='glorot_uniform')\n",
    "    ]), name='model_v7'),\n",
    "        create_model(Sequential([\n",
    "        Dense(units=60, input_shape=(127,), activation='relu', use_bias=True, kernel_initializer='glorot_uniform'),\n",
    "        Dense(units=40, activation='sigmoid', use_bias=True, kernel_initializer='glorot_uniform'),\n",
    "        Dropout(rate=0.8),\n",
    "        Dense(units=20, activation='sigmoid', use_bias=True, kernel_initializer='glorot_uniform'),\n",
    "        Dropout(rate=0.8),\n",
    "        Dense(units=4, activation='softmax', use_bias=True, kernel_initializer='glorot_uniform')\n",
    "    ]), name='model_v8'),\n",
    "        create_model(Sequential([\n",
    "        Dense(units=80, input_shape=(127,), activation='relu', use_bias=True, kernel_initializer='glorot_uniform'),\n",
    "        Dense(units=40, activation='sigmoid', use_bias=True, kernel_initializer='glorot_uniform'),\n",
    "        Dropout(rate=0.6),\n",
    "        Dense(units=20, activation='sigmoid', use_bias=True, kernel_initializer='glorot_uniform'),\n",
    "        Dropout(rate=0.6),\n",
    "        Dense(units=4, activation='softmax', use_bias=True, kernel_initializer='glorot_uniform')\n",
    "    ]), name='model_v9')    \n",
    "]\n",
    "\n",
    "\n",
    "def instantiate_model(model_name):\n",
    "    m = Sequential([\n",
    "        Dense(units=60, input_shape=(127,), activation='relu', use_bias=True, kernel_initializer='glorot_uniform'),\n",
    "        Dense(units=40, activation='sigmoid', use_bias=True, kernel_initializer='glorot_uniform'),\n",
    "        Dropout(rate=0.4),\n",
    "        Dense(units=20, activation='sigmoid', use_bias=True, kernel_initializer='glorot_uniform'),\n",
    "        Dropout(rate=0.4),\n",
    "        Dense(units=4, activation='softmax', use_bias=True, kernel_initializer='glorot_uniform')\n",
    "    ])\n",
    "    m.compile(loss='categorical_crossentropy', optimizer='adam', metrics=['acc'])\n",
    "    m.name = model_name\n",
    "    return m\n"
   ]
  },
  {
   "cell_type": "code",
   "execution_count": 10,
   "metadata": {},
   "outputs": [
    {
     "name": "stdout",
     "output_type": "stream",
     "text": [
      "Running model: model_v1\n"
     ]
    },
    {
     "name": "stderr",
     "output_type": "stream",
     "text": [
      "C:\\Users\\M0205192\\AppData\\Local\\Continuum\\anaconda3\\lib\\site-packages\\sklearn\\metrics\\classification.py:1135: UndefinedMetricWarning: F-score is ill-defined and being set to 0.0 in labels with no predicted samples.\n",
      "  'precision', 'predicted', average, warn_for)\n",
      "C:\\Users\\M0205192\\AppData\\Local\\Continuum\\anaconda3\\lib\\site-packages\\sklearn\\metrics\\classification.py:1135: UndefinedMetricWarning: Precision is ill-defined and being set to 0.0 in labels with no predicted samples.\n",
      "  'precision', 'predicted', average, warn_for)\n"
     ]
    },
    {
     "name": "stdout",
     "output_type": "stream",
     "text": [
      "Best F1-Score for model model_v1 = 0.516681\n",
      "Running model: model_v2\n",
      "Best F1-Score for model model_v2 = 0.512790\n",
      "Running model: model_v3\n"
     ]
    },
    {
     "ename": "KeyboardInterrupt",
     "evalue": "",
     "output_type": "error",
     "traceback": [
      "\u001b[1;31m---------------------------------------------------------------------------\u001b[0m",
      "\u001b[1;31mKeyboardInterrupt\u001b[0m                         Traceback (most recent call last)",
      "\u001b[1;32m<ipython-input-10-f26a2d371e7c>\u001b[0m in \u001b[0;36m<module>\u001b[1;34m()\u001b[0m\n\u001b[0;32m      3\u001b[0m     m.fit(input_train_rs, np_utils.to_categorical(target_train_rs-1), \n\u001b[0;32m      4\u001b[0m           \u001b[0mvalidation_data\u001b[0m \u001b[1;33m=\u001b[0m \u001b[1;33m(\u001b[0m\u001b[0minput_test\u001b[0m\u001b[1;33m,\u001b[0m \u001b[0mnp_utils\u001b[0m\u001b[1;33m.\u001b[0m\u001b[0mto_categorical\u001b[0m\u001b[1;33m(\u001b[0m\u001b[0mtarget_test\u001b[0m\u001b[1;33m-\u001b[0m\u001b[1;36m1\u001b[0m\u001b[1;33m)\u001b[0m\u001b[1;33m)\u001b[0m\u001b[1;33m,\u001b[0m\u001b[1;33m\u001b[0m\u001b[0m\n\u001b[1;32m----> 5\u001b[1;33m           epochs = 100, batch_size = 120,verbose = 0, callbacks = [Metrics()])\n\u001b[0m",
      "\u001b[1;32m~\\AppData\\Local\\Continuum\\anaconda3\\lib\\site-packages\\keras\\engine\\training.py\u001b[0m in \u001b[0;36mfit\u001b[1;34m(self, x, y, batch_size, epochs, verbose, callbacks, validation_split, validation_data, shuffle, class_weight, sample_weight, initial_epoch, steps_per_epoch, validation_steps, **kwargs)\u001b[0m\n\u001b[0;32m   1035\u001b[0m                                         \u001b[0minitial_epoch\u001b[0m\u001b[1;33m=\u001b[0m\u001b[0minitial_epoch\u001b[0m\u001b[1;33m,\u001b[0m\u001b[1;33m\u001b[0m\u001b[0m\n\u001b[0;32m   1036\u001b[0m                                         \u001b[0msteps_per_epoch\u001b[0m\u001b[1;33m=\u001b[0m\u001b[0msteps_per_epoch\u001b[0m\u001b[1;33m,\u001b[0m\u001b[1;33m\u001b[0m\u001b[0m\n\u001b[1;32m-> 1037\u001b[1;33m                                         validation_steps=validation_steps)\n\u001b[0m\u001b[0;32m   1038\u001b[0m \u001b[1;33m\u001b[0m\u001b[0m\n\u001b[0;32m   1039\u001b[0m     def evaluate(self, x=None, y=None,\n",
      "\u001b[1;32m~\\AppData\\Local\\Continuum\\anaconda3\\lib\\site-packages\\keras\\engine\\training_arrays.py\u001b[0m in \u001b[0;36mfit_loop\u001b[1;34m(model, f, ins, out_labels, batch_size, epochs, verbose, callbacks, val_f, val_ins, shuffle, callback_metrics, initial_epoch, steps_per_epoch, validation_steps)\u001b[0m\n\u001b[0;32m    193\u001b[0m                 \u001b[0mbatch_logs\u001b[0m\u001b[1;33m[\u001b[0m\u001b[1;34m'batch'\u001b[0m\u001b[1;33m]\u001b[0m \u001b[1;33m=\u001b[0m \u001b[0mbatch_index\u001b[0m\u001b[1;33m\u001b[0m\u001b[0m\n\u001b[0;32m    194\u001b[0m                 \u001b[0mbatch_logs\u001b[0m\u001b[1;33m[\u001b[0m\u001b[1;34m'size'\u001b[0m\u001b[1;33m]\u001b[0m \u001b[1;33m=\u001b[0m \u001b[0mlen\u001b[0m\u001b[1;33m(\u001b[0m\u001b[0mbatch_ids\u001b[0m\u001b[1;33m)\u001b[0m\u001b[1;33m\u001b[0m\u001b[0m\n\u001b[1;32m--> 195\u001b[1;33m                 \u001b[0mcallbacks\u001b[0m\u001b[1;33m.\u001b[0m\u001b[0mon_batch_begin\u001b[0m\u001b[1;33m(\u001b[0m\u001b[0mbatch_index\u001b[0m\u001b[1;33m,\u001b[0m \u001b[0mbatch_logs\u001b[0m\u001b[1;33m)\u001b[0m\u001b[1;33m\u001b[0m\u001b[0m\n\u001b[0m\u001b[0;32m    196\u001b[0m                 \u001b[1;32mfor\u001b[0m \u001b[0mi\u001b[0m \u001b[1;32min\u001b[0m \u001b[0mindices_for_conversion_to_dense\u001b[0m\u001b[1;33m:\u001b[0m\u001b[1;33m\u001b[0m\u001b[0m\n\u001b[0;32m    197\u001b[0m                     \u001b[0mins_batch\u001b[0m\u001b[1;33m[\u001b[0m\u001b[0mi\u001b[0m\u001b[1;33m]\u001b[0m \u001b[1;33m=\u001b[0m \u001b[0mins_batch\u001b[0m\u001b[1;33m[\u001b[0m\u001b[0mi\u001b[0m\u001b[1;33m]\u001b[0m\u001b[1;33m.\u001b[0m\u001b[0mtoarray\u001b[0m\u001b[1;33m(\u001b[0m\u001b[1;33m)\u001b[0m\u001b[1;33m\u001b[0m\u001b[0m\n",
      "\u001b[1;32m~\\AppData\\Local\\Continuum\\anaconda3\\lib\\site-packages\\keras\\callbacks.py\u001b[0m in \u001b[0;36mon_batch_begin\u001b[1;34m(self, batch, logs)\u001b[0m\n\u001b[0;32m     89\u001b[0m             \u001b[0mcallback\u001b[0m\u001b[1;33m.\u001b[0m\u001b[0mon_batch_begin\u001b[0m\u001b[1;33m(\u001b[0m\u001b[0mbatch\u001b[0m\u001b[1;33m,\u001b[0m \u001b[0mlogs\u001b[0m\u001b[1;33m)\u001b[0m\u001b[1;33m\u001b[0m\u001b[0m\n\u001b[0;32m     90\u001b[0m         \u001b[0mself\u001b[0m\u001b[1;33m.\u001b[0m\u001b[0m_delta_ts_batch_begin\u001b[0m\u001b[1;33m.\u001b[0m\u001b[0mappend\u001b[0m\u001b[1;33m(\u001b[0m\u001b[0mtime\u001b[0m\u001b[1;33m.\u001b[0m\u001b[0mtime\u001b[0m\u001b[1;33m(\u001b[0m\u001b[1;33m)\u001b[0m \u001b[1;33m-\u001b[0m \u001b[0mt_before_callbacks\u001b[0m\u001b[1;33m)\u001b[0m\u001b[1;33m\u001b[0m\u001b[0m\n\u001b[1;32m---> 91\u001b[1;33m         \u001b[0mdelta_t_median\u001b[0m \u001b[1;33m=\u001b[0m \u001b[0mnp\u001b[0m\u001b[1;33m.\u001b[0m\u001b[0mmedian\u001b[0m\u001b[1;33m(\u001b[0m\u001b[0mself\u001b[0m\u001b[1;33m.\u001b[0m\u001b[0m_delta_ts_batch_begin\u001b[0m\u001b[1;33m)\u001b[0m\u001b[1;33m\u001b[0m\u001b[0m\n\u001b[0m\u001b[0;32m     92\u001b[0m         if (self._delta_t_batch > 0. and\n\u001b[0;32m     93\u001b[0m            \u001b[0mdelta_t_median\u001b[0m \u001b[1;33m>\u001b[0m \u001b[1;36m0.95\u001b[0m \u001b[1;33m*\u001b[0m \u001b[0mself\u001b[0m\u001b[1;33m.\u001b[0m\u001b[0m_delta_t_batch\u001b[0m \u001b[1;32mand\u001b[0m\u001b[1;33m\u001b[0m\u001b[0m\n",
      "\u001b[1;32m~\\AppData\\Local\\Continuum\\anaconda3\\lib\\site-packages\\numpy\\lib\\function_base.py\u001b[0m in \u001b[0;36mmedian\u001b[1;34m(a, axis, out, overwrite_input, keepdims)\u001b[0m\n\u001b[0;32m   4117\u001b[0m     \"\"\"\n\u001b[0;32m   4118\u001b[0m     r, k = _ureduce(a, func=_median, axis=axis, out=out,\n\u001b[1;32m-> 4119\u001b[1;33m                     overwrite_input=overwrite_input)\n\u001b[0m\u001b[0;32m   4120\u001b[0m     \u001b[1;32mif\u001b[0m \u001b[0mkeepdims\u001b[0m\u001b[1;33m:\u001b[0m\u001b[1;33m\u001b[0m\u001b[0m\n\u001b[0;32m   4121\u001b[0m         \u001b[1;32mreturn\u001b[0m \u001b[0mr\u001b[0m\u001b[1;33m.\u001b[0m\u001b[0mreshape\u001b[0m\u001b[1;33m(\u001b[0m\u001b[0mk\u001b[0m\u001b[1;33m)\u001b[0m\u001b[1;33m\u001b[0m\u001b[0m\n",
      "\u001b[1;32m~\\AppData\\Local\\Continuum\\anaconda3\\lib\\site-packages\\numpy\\lib\\function_base.py\u001b[0m in \u001b[0;36m_ureduce\u001b[1;34m(a, func, **kwargs)\u001b[0m\n\u001b[0;32m   4031\u001b[0m         \u001b[0mkeepdim\u001b[0m \u001b[1;33m=\u001b[0m \u001b[1;33m(\u001b[0m\u001b[1;36m1\u001b[0m\u001b[1;33m,\u001b[0m\u001b[1;33m)\u001b[0m \u001b[1;33m*\u001b[0m \u001b[0ma\u001b[0m\u001b[1;33m.\u001b[0m\u001b[0mndim\u001b[0m\u001b[1;33m\u001b[0m\u001b[0m\n\u001b[0;32m   4032\u001b[0m \u001b[1;33m\u001b[0m\u001b[0m\n\u001b[1;32m-> 4033\u001b[1;33m     \u001b[0mr\u001b[0m \u001b[1;33m=\u001b[0m \u001b[0mfunc\u001b[0m\u001b[1;33m(\u001b[0m\u001b[0ma\u001b[0m\u001b[1;33m,\u001b[0m \u001b[1;33m**\u001b[0m\u001b[0mkwargs\u001b[0m\u001b[1;33m)\u001b[0m\u001b[1;33m\u001b[0m\u001b[0m\n\u001b[0m\u001b[0;32m   4034\u001b[0m     \u001b[1;32mreturn\u001b[0m \u001b[0mr\u001b[0m\u001b[1;33m,\u001b[0m \u001b[0mkeepdim\u001b[0m\u001b[1;33m\u001b[0m\u001b[0m\n\u001b[0;32m   4035\u001b[0m \u001b[1;33m\u001b[0m\u001b[0m\n",
      "\u001b[1;32m~\\AppData\\Local\\Continuum\\anaconda3\\lib\\site-packages\\numpy\\lib\\function_base.py\u001b[0m in \u001b[0;36m_median\u001b[1;34m(a, axis, out, overwrite_input)\u001b[0m\n\u001b[0;32m   4150\u001b[0m             \u001b[0mpart\u001b[0m \u001b[1;33m=\u001b[0m \u001b[0ma\u001b[0m\u001b[1;33m\u001b[0m\u001b[0m\n\u001b[0;32m   4151\u001b[0m     \u001b[1;32melse\u001b[0m\u001b[1;33m:\u001b[0m\u001b[1;33m\u001b[0m\u001b[0m\n\u001b[1;32m-> 4152\u001b[1;33m         \u001b[0mpart\u001b[0m \u001b[1;33m=\u001b[0m \u001b[0mpartition\u001b[0m\u001b[1;33m(\u001b[0m\u001b[0ma\u001b[0m\u001b[1;33m,\u001b[0m \u001b[0mkth\u001b[0m\u001b[1;33m,\u001b[0m \u001b[0maxis\u001b[0m\u001b[1;33m=\u001b[0m\u001b[0maxis\u001b[0m\u001b[1;33m)\u001b[0m\u001b[1;33m\u001b[0m\u001b[0m\n\u001b[0m\u001b[0;32m   4153\u001b[0m \u001b[1;33m\u001b[0m\u001b[0m\n\u001b[0;32m   4154\u001b[0m     \u001b[1;32mif\u001b[0m \u001b[0mpart\u001b[0m\u001b[1;33m.\u001b[0m\u001b[0mshape\u001b[0m \u001b[1;33m==\u001b[0m \u001b[1;33m(\u001b[0m\u001b[1;33m)\u001b[0m\u001b[1;33m:\u001b[0m\u001b[1;33m\u001b[0m\u001b[0m\n",
      "\u001b[1;32m~\\AppData\\Local\\Continuum\\anaconda3\\lib\\site-packages\\numpy\\core\\fromnumeric.py\u001b[0m in \u001b[0;36mpartition\u001b[1;34m(a, kth, axis, kind, order)\u001b[0m\n\u001b[0;32m    662\u001b[0m     \u001b[1;32melse\u001b[0m\u001b[1;33m:\u001b[0m\u001b[1;33m\u001b[0m\u001b[0m\n\u001b[0;32m    663\u001b[0m         \u001b[0ma\u001b[0m \u001b[1;33m=\u001b[0m \u001b[0masanyarray\u001b[0m\u001b[1;33m(\u001b[0m\u001b[0ma\u001b[0m\u001b[1;33m)\u001b[0m\u001b[1;33m.\u001b[0m\u001b[0mcopy\u001b[0m\u001b[1;33m(\u001b[0m\u001b[0morder\u001b[0m\u001b[1;33m=\u001b[0m\u001b[1;34m\"K\"\u001b[0m\u001b[1;33m)\u001b[0m\u001b[1;33m\u001b[0m\u001b[0m\n\u001b[1;32m--> 664\u001b[1;33m     \u001b[0ma\u001b[0m\u001b[1;33m.\u001b[0m\u001b[0mpartition\u001b[0m\u001b[1;33m(\u001b[0m\u001b[0mkth\u001b[0m\u001b[1;33m,\u001b[0m \u001b[0maxis\u001b[0m\u001b[1;33m=\u001b[0m\u001b[0maxis\u001b[0m\u001b[1;33m,\u001b[0m \u001b[0mkind\u001b[0m\u001b[1;33m=\u001b[0m\u001b[0mkind\u001b[0m\u001b[1;33m,\u001b[0m \u001b[0morder\u001b[0m\u001b[1;33m=\u001b[0m\u001b[0morder\u001b[0m\u001b[1;33m)\u001b[0m\u001b[1;33m\u001b[0m\u001b[0m\n\u001b[0m\u001b[0;32m    665\u001b[0m     \u001b[1;32mreturn\u001b[0m \u001b[0ma\u001b[0m\u001b[1;33m\u001b[0m\u001b[0m\n\u001b[0;32m    666\u001b[0m \u001b[1;33m\u001b[0m\u001b[0m\n",
      "\u001b[1;31mKeyboardInterrupt\u001b[0m: "
     ]
    }
   ],
   "source": [
    "for m in all_models:\n",
    "    print(\"Running model: %s\"%m.name)\n",
    "    m.fit(input_train_rs, np_utils.to_categorical(target_train_rs-1), \n",
    "          validation_data = (input_test, np_utils.to_categorical(target_test-1)),\n",
    "          epochs = 100, batch_size = 120,verbose = 0, callbacks = [Metrics()])"
   ]
  },
  {
   "cell_type": "code",
   "execution_count": null,
   "metadata": {},
   "outputs": [],
   "source": [
    "#  val_f1: 0.235240 | val_precision: 0.584472 | val_recall 0.207276 - Rebalancing (SMOTE)\n",
    "#  val_f1: 0.372892 | val_precision: 0.628871 | val_recall 0.280111 - Rebalancing (rs)"
   ]
  },
  {
   "cell_type": "code",
   "execution_count": null,
   "metadata": {},
   "outputs": [],
   "source": []
  }
 ],
 "metadata": {
  "kernelspec": {
   "display_name": "Python 3",
   "language": "python",
   "name": "python3"
  },
  "language_info": {
   "codemirror_mode": {
    "name": "ipython",
    "version": 3
   },
   "file_extension": ".py",
   "mimetype": "text/x-python",
   "name": "python",
   "nbconvert_exporter": "python",
   "pygments_lexer": "ipython3",
   "version": "3.6.4"
  },
  "toc": {
   "toc_cell": false,
   "toc_number_sections": true,
   "toc_threshold": 6,
   "toc_window_display": false
  }
 },
 "nbformat": 4,
 "nbformat_minor": 2
}
