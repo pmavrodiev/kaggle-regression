{
 "cells": [
  {
   "cell_type": "code",
   "execution_count": 354,
   "metadata": {
    "ExecuteTime": {
     "end_time": "2018-08-08T19:09:01.266884Z",
     "start_time": "2018-08-08T19:08:58.737800Z"
    }
   },
   "outputs": [
    {
     "name": "stdout",
     "output_type": "stream",
     "text": [
      "1.9.0\n",
      "2.2.2\n"
     ]
    }
   ],
   "source": [
    "import pandas as pd\n",
    "import tensorflow as tf\n",
    "import keras\n",
    "import os.path\n",
    "import numpy as np\n",
    "\n",
    "import matplotlib.pyplot as plt\n",
    "\n",
    "from datetime import datetime\n",
    "\n",
    "import keras.backend as K\n",
    "from keras.utils import np_utils\n",
    "from keras.callbacks import Callback\n",
    "\n",
    "\n",
    "from sklearn.model_selection import train_test_split\n",
    "from sklearn.metrics import confusion_matrix, f1_score, precision_score, recall_score\n",
    "from sklearn.pipeline import Pipeline\n",
    "from sklearn.model_selection import GridSearchCV\n",
    "\n",
    "from IPython.core.debugger import Pdb\n",
    "\n",
    "from imblearn.over_sampling import SMOTE, RandomOverSampler\n",
    "\n",
    "from sklearn.ensemble import RandomForestClassifier, AdaBoostClassifier, GradientBoostingClassifier\n",
    "from xgboost import XGBClassifier\n",
    "\n",
    "# show warnings always\n",
    "# import warnings\n",
    "# warnings.filterwarnings('always')\n",
    "\n",
    "print(tf.VERSION)\n",
    "print(keras.__version__)"
   ]
  },
  {
   "cell_type": "markdown",
   "metadata": {},
   "source": [
    "# Read-in data"
   ]
  },
  {
   "cell_type": "code",
   "execution_count": 170,
   "metadata": {
    "ExecuteTime": {
     "end_time": "2018-08-08T19:55:16.164982Z",
     "start_time": "2018-08-08T19:55:16.015219Z"
    }
   },
   "outputs": [],
   "source": [
    "train_pd = pd.read_csv('./datasets/train.csv', sep=',', header=0)"
   ]
  },
  {
   "cell_type": "markdown",
   "metadata": {},
   "source": [
    "## Getting to know the data"
   ]
  },
  {
   "cell_type": "markdown",
   "metadata": {},
   "source": [
    "Check if there is more than 1 household head per household\n",
    "\n",
    "Group by *idhogar* (household key) and then check column *parentesco1*"
   ]
  },
  {
   "cell_type": "code",
   "execution_count": null,
   "metadata": {
    "ExecuteTime": {
     "end_time": "2018-08-08T19:13:26.261061Z",
     "start_time": "2018-08-08T19:13:26.247558Z"
    }
   },
   "outputs": [],
   "source": [
    "idhogar_aggregated = train_pd.groupby('idhogar').parentesco1.sum()"
   ]
  },
  {
   "cell_type": "code",
   "execution_count": null,
   "metadata": {
    "ExecuteTime": {
     "end_time": "2018-08-08T19:14:44.642823Z",
     "start_time": "2018-08-08T19:14:44.637232Z"
    }
   },
   "outputs": [],
   "source": [
    "idhogar_aggregated[idhogar_aggregated != 1]"
   ]
  },
  {
   "cell_type": "markdown",
   "metadata": {},
   "source": [
    "There are 15 households with no household head"
   ]
  },
  {
   "cell_type": "markdown",
   "metadata": {
    "ExecuteTime": {
     "end_time": "2018-08-08T19:18:39.003281Z",
     "start_time": "2018-08-08T19:18:38.996816Z"
    }
   },
   "source": [
    "Check if the poverty label is the same for all members of a household"
   ]
  },
  {
   "cell_type": "code",
   "execution_count": null,
   "metadata": {
    "ExecuteTime": {
     "end_time": "2018-08-08T19:23:03.589125Z",
     "start_time": "2018-08-08T19:23:03.564003Z"
    }
   },
   "outputs": [],
   "source": [
    "target_aggregated = train_pd.groupby('idhogar').Target.aggregate(['min', 'max'])\n",
    "\n",
    "target_aggregated['poverty_different'] = target_aggregated['min'] != target_aggregated['max']\n",
    "target_aggregated.loc[target_aggregated['poverty_different']].head(10)"
   ]
  },
  {
   "cell_type": "markdown",
   "metadata": {},
   "source": [
    "It is not, meaning that members of a given household can have different poverty levels."
   ]
  },
  {
   "cell_type": "code",
   "execution_count": null,
   "metadata": {
    "ExecuteTime": {
     "end_time": "2018-08-08T19:23:40.227652Z",
     "start_time": "2018-08-08T19:23:40.203058Z"
    }
   },
   "outputs": [],
   "source": [
    "train_pd.loc[train_pd['idhogar'] == '0172ab1d9']"
   ]
  },
  {
   "cell_type": "markdown",
   "metadata": {},
   "source": [
    "Check if houses that have been fully paid have a montly payment - they should not."
   ]
  },
  {
   "cell_type": "code",
   "execution_count": null,
   "metadata": {},
   "outputs": [],
   "source": [
    "train_pd.loc[(train_pd['tipovivi1'] == 1) & (~np.isnan(train_pd['v2a1']))] # GOOD"
   ]
  },
  {
   "cell_type": "code",
   "execution_count": null,
   "metadata": {},
   "outputs": [],
   "source": [
    "len(train_pd.columns)"
   ]
  },
  {
   "cell_type": "markdown",
   "metadata": {},
   "source": [
    "# Prepare data"
   ]
  },
  {
   "cell_type": "markdown",
   "metadata": {},
   "source": [
    "Drop some unneeded columns"
   ]
  },
  {
   "cell_type": "code",
   "execution_count": 171,
   "metadata": {},
   "outputs": [
    {
     "data": {
      "text/plain": [
       "128"
      ]
     },
     "execution_count": 171,
     "metadata": {},
     "output_type": "execute_result"
    }
   ],
   "source": [
    "# the columns (SQBage, agesq) and (tamhog, hhsize, hogar_total) are identical - REMOVE THEM\n",
    "train_pd.drop(columns=['SQBage', 'tamhog', 'hogar_total'], inplace=True)\n",
    "\n",
    "# drop interaction columns ['edjefe', 'edjefa']\n",
    "train_pd.drop(columns=['edjefe', 'edjefa', 'SQBedjefe'], inplace=True)\n",
    "# drop dependency and its square - mixed numerical and alphanumeric values, unclear contribution\n",
    "train_pd.drop(columns=['dependency', 'SQBdependency'], inplace=True)\n",
    "\n",
    "# Drop all the squared features\n",
    "train_pd.drop(columns=['agesq', 'SQBhogar_total', 'SQBhogar_nin', 'SQBovercrowding', 'SQBmeaned'], inplace=True)\n",
    "\n",
    "# Drop string columns\n",
    "train_pd.drop(columns=['idhogar', 'Id'], inplace=True)\n",
    "\n",
    "len(train_pd.columns)"
   ]
  },
  {
   "cell_type": "markdown",
   "metadata": {},
   "source": [
    "Check the target labels and rebalance if necessary"
   ]
  },
  {
   "cell_type": "code",
   "execution_count": 5,
   "metadata": {},
   "outputs": [
    {
     "data": {
      "text/plain": [
       "<matplotlib.axes._subplots.AxesSubplot at 0xffcf470>"
      ]
     },
     "execution_count": 5,
     "metadata": {},
     "output_type": "execute_result"
    },
    {
     "data": {
      "image/png": "[encoded data removed]",
      "text/plain": [
       "<matplotlib.figure.Figure at 0xff4aa90>"
      ]
     },
     "metadata": {},
     "output_type": "display_data"
    }
   ],
   "source": [
    "train_pd.Target.value_counts().plot(kind='bar')"
   ]
  },
  {
   "cell_type": "code",
   "execution_count": null,
   "metadata": {},
   "outputs": [],
   "source": [
    "# compute the disbalance\n",
    "print(train_pd.Target.value_counts())\n",
    "print(train_pd.Target.value_counts(normalize=True))\n",
    "print(len(train_pd))"
   ]
  },
  {
   "cell_type": "markdown",
   "metadata": {},
   "source": [
    "## Train-test split"
   ]
  },
  {
   "cell_type": "code",
   "execution_count": 172,
   "metadata": {},
   "outputs": [],
   "source": [
    "# Resampling methods\n",
    "\n",
    "def SMOTE_resample(x, y):\n",
    "    max_label = pd.Series(y).value_counts().iloc[0]\n",
    "    sm = SMOTE(random_state=42, ratio={1:max_label, 2:max_label, 3:max_label})\n",
    "    x_res, y_res = sm.fit_sample(x, y)\n",
    "    return x_res, y_res\n",
    "\n",
    "def naive_resample(x, y):\n",
    "    # simply sample with replacement\n",
    "    max_label = pd.Series(y).value_counts().iloc[0]\n",
    "    rus = RandomOverSampler(random_state=42, ratio={1:max_label, 2:max_label, 3:max_label})\n",
    "    x_res, y_res = rus.fit_sample(x, y)\n",
    "    return x_res, y_res\n"
   ]
  },
  {
   "cell_type": "code",
   "execution_count": 173,
   "metadata": {},
   "outputs": [],
   "source": [
    "# prepare the data\n",
    "# split \n",
    "\n",
    "# convert all NaNs to 0 - big assumption\n",
    "train_pd = train_pd.fillna(0)\n"
   ]
  },
  {
   "cell_type": "code",
   "execution_count": null,
   "metadata": {},
   "outputs": [],
   "source": []
  },
  {
   "cell_type": "code",
   "execution_count": 243,
   "metadata": {},
   "outputs": [],
   "source": [
    "def CV_monte_carlo(model, training_data, N=10, trainining_size=0.8):\n",
    "    f1_scores = []\n",
    "    best_model = None\n",
    "    cm = None\n",
    "    for n in range(N):\n",
    "        # split\n",
    "        input_train, input_test, \\\n",
    "        target_train, target_test = train_test_split(training_data.loc[:, ~training_data.columns.isin(['Target'])].values, \n",
    "                                                     training_data['Target'].values, test_size=1-trainining_size)\n",
    "        input_train_rs, target_train_rs = naive_resample(input_train, target_train)\n",
    "        input_train_smote, target_train_smote = SMOTE_resample(input_train, target_train)\n",
    "        # fit and evaluate model\n",
    "        model.fit(input_train_rs, target_train_rs)\n",
    "        predicted = model.predict(input_test)\n",
    "        # Pdb().set_trace()\n",
    "        f1 = f1_score(target_test, predicted, average=\"macro\")\n",
    "        if best_model is None:\n",
    "            best_model = model\n",
    "            cm = confusion_matrix(target_test, predicted)\n",
    "        if len(f1_scores) > 0 and f1 > np.max(f1_scores):\n",
    "            best_model = model\n",
    "            cm = confusion_matrix(target_test, predicted)\n",
    "        f1_scores.append(f1)\n",
    "    \n",
    "    print(\"Min/Mean/Max F1-Score = %f / %f / %f \"%(np.min(f1_scores), np.mean(f1_scores), np.max(f1_scores)))\n",
    "    return f1_scores, best_model, cm\n",
    "        "
   ]
  },
  {
   "cell_type": "markdown",
   "metadata": {},
   "source": [
    "# Non-DN approaches"
   ]
  },
  {
   "cell_type": "code",
   "execution_count": 355,
   "metadata": {},
   "outputs": [],
   "source": [
    "rf_pipeline = Pipeline([('rf', RandomForestClassifier(max_depth=None, random_state=0, warm_start=False))])\n",
    "xgboost_pipeline = Pipeline([('xgboost', GradientBoostingClassifier(random_state=0))])\n",
    "#\n",
    "grid_params_rf = [{'rf__n_estimators': [10,30,50,70,100,120]}]\n",
    "grid_params_xgboost = [{'xgboost__n_estimators': [50,70,130,150], \n",
    "                        'xgboost__learning_rate': [0.5, 1.0, 1.5, 2.0, 2.5, 3.0, 4.0],\n",
    "                        'xgboost__max_depth': [3,5,7,10,20]}]\n",
    "\n",
    "\n",
    "gs_rf = GridSearchCV(estimator=rf_pipeline, param_grid = grid_params_rf, scoring='f1_macro', cv=10)\n",
    "gs_xgboost = GridSearchCV(estimator=xgboost_pipeline, param_grid = grid_params_xgboost, scoring='f1_macro', cv=10)\n",
    "#\n",
    "grids = [gs_rf, gs_xgboost]\n",
    "\n"
   ]
  },
  {
   "cell_type": "markdown",
   "metadata": {},
   "source": [
    "## Random Forest"
   ]
  },
  {
   "cell_type": "code",
   "execution_count": 206,
   "metadata": {},
   "outputs": [
    {
     "name": "stdout",
     "output_type": "stream",
     "text": [
      "Min/Mean/Max F1-Score = 0.884624 / 0.904214 / 0.926295 \n"
     ]
    }
   ],
   "source": [
    "rf_model = RandomForestClassifier(n_estimators=50, max_depth=None, random_state=0, warm_start=False)\n",
    "rf_scores, rf_best, cm_rf = CV_monte_carlo(rf_model, training_data=train_pd)"
   ]
  },
  {
   "cell_type": "code",
   "execution_count": 229,
   "metadata": {},
   "outputs": [
    {
     "data": {
      "text/plain": [
       "array([[9.16129032e+01, 4.51612903e+00, 0.00000000e+00, 3.87096774e+00],\n",
       "       [2.22929936e+00, 8.69426752e+01, 3.18471338e+00, 7.64331210e+00],\n",
       "       [0.00000000e+00, 8.00000000e-01, 8.64000000e+01, 1.28000000e+01],\n",
       "       [8.38222967e-02, 3.35289187e-01, 5.86756077e-01, 9.89941324e+01]])"
      ]
     },
     "execution_count": 229,
     "metadata": {},
     "output_type": "execute_result"
    }
   ],
   "source": [
    "100 * cm_rf / cm_rf.sum(axis=1)[:, np.newaxis]"
   ]
  },
  {
   "cell_type": "markdown",
   "metadata": {},
   "source": [
    "## Get the feature importance from the random forest"
   ]
  },
  {
   "cell_type": "code",
   "execution_count": 188,
   "metadata": {},
   "outputs": [],
   "source": [
    "importances = rf_best.feature_importances_\n",
    "std = np.std([tree.feature_importances_ for tree in rf_best.estimators_], axis=0)\n",
    "indices = np.argsort(importances)[::-1]\n",
    "\n",
    "importances_pd = pd.DataFrame.from_dict({'feature_index': indices, 'feature_importance': importances[indices]})\n",
    "importances_pd = importances_pd.sort_values('feature_importance', ascending=False)\n"
   ]
  },
  {
   "cell_type": "code",
   "execution_count": 189,
   "metadata": {},
   "outputs": [
    {
     "data": {
      "image/png": "[encoded data removed]",
      "text/plain": [
       "<matplotlib.figure.Figure at 0x17282b70>"
      ]
     },
     "metadata": {},
     "output_type": "display_data"
    }
   ],
   "source": [
    "importances_pd['importance_cumsum'] = importances_pd['feature_importance'].cumsum()\n",
    "\n",
    "plt.figure(figsize=(25,5))\n",
    "plt.title(\"Feature importances\")\n",
    "plt.bar(range(len(importances_pd['importance_cumsum'])),y,color=\"r\", yerr=std[indices], align=\"center\")\n",
    "plt.xticks(importances_pd['feature_index'], indices)\n",
    "plt.xlim([-1, len(importances)])\n",
    "plt.show()\n"
   ]
  },
  {
   "cell_type": "code",
   "execution_count": 190,
   "metadata": {},
   "outputs": [],
   "source": [
    "features_80percent = importances_pd.loc[importances_pd['importance_cumsum'] <= 0.8]['feature_index']"
   ]
  },
  {
   "cell_type": "code",
   "execution_count": 191,
   "metadata": {},
   "outputs": [],
   "source": [
    "train_engineered_pd = train_pd.loc[:, ~train_pd.columns.isin(['Target'])].iloc[:,features_80percent]\n",
    "train_engineered_pd['Target'] = train_pd['Target']"
   ]
  },
  {
   "cell_type": "markdown",
   "metadata": {},
   "source": [
    "## Random forest with engineered data"
   ]
  },
  {
   "cell_type": "code",
   "execution_count": 192,
   "metadata": {},
   "outputs": [
    {
     "name": "stdout",
     "output_type": "stream",
     "text": [
      "Min/Mean/Max F1-Score = 0.901750 / 0.920346 / 0.936022 \n"
     ]
    }
   ],
   "source": [
    "rf_model_engineered = RandomForestClassifier(n_estimators=50, max_depth=None, random_state=0, warm_start=False)\n",
    "rf_scores_engineered, rf_best_engineered, cm_rf_engineered = CV_monte_carlo(rf_model_engineered, \n",
    "                                                                            training_data=train_engineered_pd)"
   ]
  },
  {
   "cell_type": "code",
   "execution_count": 228,
   "metadata": {},
   "outputs": [
    {
     "data": {
      "text/plain": [
       "array([[92.45283019,  4.40251572,  1.25786164,  1.88679245],\n",
       "       [ 1.48809524, 90.77380952,  1.78571429,  5.95238095],\n",
       "       [ 0.        ,  4.72103004, 88.41201717,  6.86695279],\n",
       "       [ 0.16891892,  0.84459459,  0.25337838, 98.73310811]])"
      ]
     },
     "execution_count": 228,
     "metadata": {},
     "output_type": "execute_result"
    }
   ],
   "source": [
    "# confusion matrix\n",
    "100 * cm_rf_engineered / cm_rf_engineered.sum(axis=1)[:, np.newaxis]"
   ]
  },
  {
   "cell_type": "markdown",
   "metadata": {},
   "source": [
    "## Grid Search"
   ]
  },
  {
   "cell_type": "code",
   "execution_count": 357,
   "metadata": {},
   "outputs": [
    {
     "name": "stdout",
     "output_type": "stream",
     "text": [
      "Estimator: Random Forest\n",
      "Best params: {'rf__n_estimators': 50}\n",
      "Best training F1 score: 0.999\n",
      "Test set F1 score for best params: 0.985 \n",
      "Estimator: XGboost\n"
     ]
    },
    {
     "name": "stderr",
     "output_type": "stream",
     "text": [
      "C:\\Users\\M0205192\\AppData\\Local\\Continuum\\anaconda3\\lib\\site-packages\\sklearn\\metrics\\classification.py:1135: UndefinedMetricWarning: F-score is ill-defined and being set to 0.0 in labels with no predicted samples.\n",
      "  'precision', 'predicted', average, warn_for)\n",
      "C:\\Users\\M0205192\\AppData\\Local\\Continuum\\anaconda3\\lib\\site-packages\\sklearn\\metrics\\classification.py:1135: UndefinedMetricWarning: F-score is ill-defined and being set to 0.0 in labels with no predicted samples.\n",
      "  'precision', 'predicted', average, warn_for)\n",
      "C:\\Users\\M0205192\\AppData\\Local\\Continuum\\anaconda3\\lib\\site-packages\\sklearn\\metrics\\classification.py:1135: UndefinedMetricWarning: F-score is ill-defined and being set to 0.0 in labels with no predicted samples.\n",
      "  'precision', 'predicted', average, warn_for)\n",
      "C:\\Users\\M0205192\\AppData\\Local\\Continuum\\anaconda3\\lib\\site-packages\\sklearn\\metrics\\classification.py:1135: UndefinedMetricWarning: F-score is ill-defined and being set to 0.0 in labels with no predicted samples.\n",
      "  'precision', 'predicted', average, warn_for)\n",
      "C:\\Users\\M0205192\\AppData\\Local\\Continuum\\anaconda3\\lib\\site-packages\\sklearn\\metrics\\classification.py:1135: UndefinedMetricWarning: F-score is ill-defined and being set to 0.0 in labels with no predicted samples.\n",
      "  'precision', 'predicted', average, warn_for)\n",
      "C:\\Users\\M0205192\\AppData\\Local\\Continuum\\anaconda3\\lib\\site-packages\\sklearn\\metrics\\classification.py:1135: UndefinedMetricWarning: F-score is ill-defined and being set to 0.0 in labels with no predicted samples.\n",
      "  'precision', 'predicted', average, warn_for)\n",
      "C:\\Users\\M0205192\\AppData\\Local\\Continuum\\anaconda3\\lib\\site-packages\\sklearn\\metrics\\classification.py:1135: UndefinedMetricWarning: F-score is ill-defined and being set to 0.0 in labels with no predicted samples.\n",
      "  'precision', 'predicted', average, warn_for)\n",
      "C:\\Users\\M0205192\\AppData\\Local\\Continuum\\anaconda3\\lib\\site-packages\\sklearn\\metrics\\classification.py:1135: UndefinedMetricWarning: F-score is ill-defined and being set to 0.0 in labels with no predicted samples.\n",
      "  'precision', 'predicted', average, warn_for)\n",
      "C:\\Users\\M0205192\\AppData\\Local\\Continuum\\anaconda3\\lib\\site-packages\\sklearn\\metrics\\classification.py:1135: UndefinedMetricWarning: F-score is ill-defined and being set to 0.0 in labels with no predicted samples.\n",
      "  'precision', 'predicted', average, warn_for)\n",
      "C:\\Users\\M0205192\\AppData\\Local\\Continuum\\anaconda3\\lib\\site-packages\\sklearn\\metrics\\classification.py:1135: UndefinedMetricWarning: F-score is ill-defined and being set to 0.0 in labels with no predicted samples.\n",
      "  'precision', 'predicted', average, warn_for)\n",
      "C:\\Users\\M0205192\\AppData\\Local\\Continuum\\anaconda3\\lib\\site-packages\\sklearn\\metrics\\classification.py:1135: UndefinedMetricWarning: F-score is ill-defined and being set to 0.0 in labels with no predicted samples.\n",
      "  'precision', 'predicted', average, warn_for)\n",
      "C:\\Users\\M0205192\\AppData\\Local\\Continuum\\anaconda3\\lib\\site-packages\\sklearn\\metrics\\classification.py:1135: UndefinedMetricWarning: F-score is ill-defined and being set to 0.0 in labels with no predicted samples.\n",
      "  'precision', 'predicted', average, warn_for)\n",
      "C:\\Users\\M0205192\\AppData\\Local\\Continuum\\anaconda3\\lib\\site-packages\\sklearn\\metrics\\classification.py:1135: UndefinedMetricWarning: F-score is ill-defined and being set to 0.0 in labels with no predicted samples.\n",
      "  'precision', 'predicted', average, warn_for)\n",
      "C:\\Users\\M0205192\\AppData\\Local\\Continuum\\anaconda3\\lib\\site-packages\\sklearn\\metrics\\classification.py:1135: UndefinedMetricWarning: F-score is ill-defined and being set to 0.0 in labels with no predicted samples.\n",
      "  'precision', 'predicted', average, warn_for)\n",
      "C:\\Users\\M0205192\\AppData\\Local\\Continuum\\anaconda3\\lib\\site-packages\\sklearn\\metrics\\classification.py:1135: UndefinedMetricWarning: F-score is ill-defined and being set to 0.0 in labels with no predicted samples.\n",
      "  'precision', 'predicted', average, warn_for)\n",
      "C:\\Users\\M0205192\\AppData\\Local\\Continuum\\anaconda3\\lib\\site-packages\\sklearn\\metrics\\classification.py:1135: UndefinedMetricWarning: F-score is ill-defined and being set to 0.0 in labels with no predicted samples.\n",
      "  'precision', 'predicted', average, warn_for)\n",
      "C:\\Users\\M0205192\\AppData\\Local\\Continuum\\anaconda3\\lib\\site-packages\\sklearn\\metrics\\classification.py:1135: UndefinedMetricWarning: F-score is ill-defined and being set to 0.0 in labels with no predicted samples.\n",
      "  'precision', 'predicted', average, warn_for)\n",
      "C:\\Users\\M0205192\\AppData\\Local\\Continuum\\anaconda3\\lib\\site-packages\\sklearn\\metrics\\classification.py:1135: UndefinedMetricWarning: F-score is ill-defined and being set to 0.0 in labels with no predicted samples.\n",
      "  'precision', 'predicted', average, warn_for)\n",
      "C:\\Users\\M0205192\\AppData\\Local\\Continuum\\anaconda3\\lib\\site-packages\\sklearn\\metrics\\classification.py:1135: UndefinedMetricWarning: F-score is ill-defined and being set to 0.0 in labels with no predicted samples.\n",
      "  'precision', 'predicted', average, warn_for)\n",
      "C:\\Users\\M0205192\\AppData\\Local\\Continuum\\anaconda3\\lib\\site-packages\\sklearn\\metrics\\classification.py:1135: UndefinedMetricWarning: F-score is ill-defined and being set to 0.0 in labels with no predicted samples.\n",
      "  'precision', 'predicted', average, warn_for)\n",
      "C:\\Users\\M0205192\\AppData\\Local\\Continuum\\anaconda3\\lib\\site-packages\\sklearn\\metrics\\classification.py:1135: UndefinedMetricWarning: F-score is ill-defined and being set to 0.0 in labels with no predicted samples.\n",
      "  'precision', 'predicted', average, warn_for)\n",
      "C:\\Users\\M0205192\\AppData\\Local\\Continuum\\anaconda3\\lib\\site-packages\\sklearn\\metrics\\classification.py:1135: UndefinedMetricWarning: F-score is ill-defined and being set to 0.0 in labels with no predicted samples.\n",
      "  'precision', 'predicted', average, warn_for)\n",
      "C:\\Users\\M0205192\\AppData\\Local\\Continuum\\anaconda3\\lib\\site-packages\\sklearn\\metrics\\classification.py:1135: UndefinedMetricWarning: F-score is ill-defined and being set to 0.0 in labels with no predicted samples.\n",
      "  'precision', 'predicted', average, warn_for)\n",
      "C:\\Users\\M0205192\\AppData\\Local\\Continuum\\anaconda3\\lib\\site-packages\\sklearn\\metrics\\classification.py:1135: UndefinedMetricWarning: F-score is ill-defined and being set to 0.0 in labels with no predicted samples.\n",
      "  'precision', 'predicted', average, warn_for)\n"
     ]
    },
    {
     "name": "stdout",
     "output_type": "stream",
     "text": [
      "Best params: {'xgboost__learning_rate': 1.0, 'xgboost__max_depth': 10, 'xgboost__n_estimators': 50}\n",
      "Best training F1 score: 0.999\n",
      "Test set F1 score for best params: 0.984 \n",
      "\n",
      "Classifier with best test set accuracy: Random Forest\n"
     ]
    }
   ],
   "source": [
    "# prepare trainings data\n",
    "\n",
    "# split\n",
    "input_train, input_test, \\\n",
    "target_train, target_test = train_test_split(train_engineered_pd.loc[:, ~train_engineered_pd.columns.isin(['Target'])].values, \n",
    "                                             train_engineered_pd['Target'].values, test_size=1-0.8)\n",
    "input_train_rs, target_train_rs = naive_resample(input_train, target_train)\n",
    "input_train_smote, target_train_smote = SMOTE_resample(input_train, target_train)\n",
    "        \n",
    "        \n",
    "grid_dict = {0: 'Random Forest', 1: 'XGboost'}\n",
    "best_f1 = 0.0\n",
    "for idx, gs in enumerate(grids):\n",
    "    print(\"Estimator: %s\" % grid_dict[idx])\n",
    "    # Fit grid search\n",
    "    gs.fit(input_train_rs, target_train_rs)\n",
    "    print('Best params: %s' % gs.best_params_)\n",
    "    print('Best training F1 score: %.3f' % gs.best_score_)\n",
    "    y_pred = gs.predict(input_test)\n",
    "    metric = f1_score(target_test, y_pred, average=\"macro\")\n",
    "    print('Test set F1 score for best params: %.3f ' % metric)\n",
    "    if metric > best_f1:\n",
    "        best_f1 = metric\n",
    "        best_gs = gs\n",
    "        best_clf = idx\n",
    "print('\\nClassifier with best test set accuracy: %s' % grid_dict[best_clf])"
   ]
  },
  {
   "cell_type": "markdown",
   "metadata": {},
   "source": [
    "## AdaBoost"
   ]
  },
  {
   "cell_type": "code",
   "execution_count": 194,
   "metadata": {},
   "outputs": [
    {
     "name": "stdout",
     "output_type": "stream",
     "text": [
      "Min/Mean/Max F1-Score = 0.423875 / 0.444823 / 0.469937 \n"
     ]
    }
   ],
   "source": [
    "adaboost_model =  AdaBoostClassifier(n_estimators=100)\n",
    "adaboost_scores, adaboost_best, cm_adaboost = CV_monte_carlo(adaboost_model, training_data=train_pd)"
   ]
  },
  {
   "cell_type": "code",
   "execution_count": 231,
   "metadata": {},
   "outputs": [
    {
     "data": {
      "text/plain": [
       "array([[54.05405405, 20.94594595, 16.21621622,  8.78378378],\n",
       "       [25.23364486, 37.38317757, 24.29906542, 13.08411215],\n",
       "       [19.4092827 , 15.18987342, 41.35021097, 24.05063291],\n",
       "       [ 7.13101161,  8.54063018, 12.68656716, 71.64179104]])"
      ]
     },
     "execution_count": 231,
     "metadata": {},
     "output_type": "execute_result"
    }
   ],
   "source": [
    "# confusion matrix\n",
    "100 * cm_adaboost / cm_adaboost.sum(axis=1)[:, np.newaxis]"
   ]
  },
  {
   "cell_type": "markdown",
   "metadata": {},
   "source": [
    "## AdaBoost with engineered data"
   ]
  },
  {
   "cell_type": "code",
   "execution_count": 196,
   "metadata": {},
   "outputs": [
    {
     "name": "stdout",
     "output_type": "stream",
     "text": [
      "Min/Mean/Max F1-Score = 0.427184 / 0.442710 / 0.465420 \n"
     ]
    }
   ],
   "source": [
    "adaboost_model_engineered =  AdaBoostClassifier(n_estimators=100)\n",
    "adaboost_scores_engineered, adaboost_best_engineered, cm_adaboost_engineered = CV_monte_carlo(adaboost_model_engineered, \n",
    "                                                                      training_data=train_engineered_pd)"
   ]
  },
  {
   "cell_type": "code",
   "execution_count": 232,
   "metadata": {},
   "outputs": [
    {
     "data": {
      "text/plain": [
       "array([[61.74496644, 16.77852349, 12.08053691,  9.39597315],\n",
       "       [29.20353982, 33.03834808, 22.12389381, 15.63421829],\n",
       "       [19.52191235, 16.73306773, 43.42629482, 20.3187251 ],\n",
       "       [ 7.58738278,  7.07587383, 16.70929241, 68.62745098]])"
      ]
     },
     "execution_count": 232,
     "metadata": {},
     "output_type": "execute_result"
    }
   ],
   "source": [
    "# confusion matrix\n",
    "100 * cm_adaboost_engineered / cm_adaboost_engineered.sum(axis=1)[:, np.newaxis]"
   ]
  },
  {
   "cell_type": "markdown",
   "metadata": {},
   "source": [
    "## Gradient Tree Boosting"
   ]
  },
  {
   "cell_type": "code",
   "execution_count": null,
   "metadata": {},
   "outputs": [],
   "source": [
    "gtb_model = GradientBoostingClassifier(n_estimators=130, learning_rate=2, max_depth=5, random_state=0)\n",
    "gtb_scores, gtb_best = CV_monte_carlo(gtb_model, training_data=train_pd)"
   ]
  },
  {
   "cell_type": "markdown",
   "metadata": {},
   "source": [
    "## Gradient Tree Boosting with engineered data"
   ]
  },
  {
   "cell_type": "code",
   "execution_count": null,
   "metadata": {},
   "outputs": [],
   "source": [
    "gtb_model_engineered = GradientBoostingClassifier(n_estimators=130, learning_rate=2, max_depth=5, random_state=0)\n",
    "gtb_scores_engineered, gtb_best_engineered = CV_monte_carlo(gtb_model_engineered, training_data=train_engineered_pd)"
   ]
  },
  {
   "cell_type": "markdown",
   "metadata": {},
   "source": [
    "## XGBoost"
   ]
  },
  {
   "cell_type": "code",
   "execution_count": 244,
   "metadata": {},
   "outputs": [
    {
     "name": "stderr",
     "output_type": "stream",
     "text": [
      "C:\\Users\\M0205192\\AppData\\Local\\Continuum\\anaconda3\\lib\\site-packages\\sklearn\\preprocessing\\label.py:151: DeprecationWarning: The truth value of an empty array is ambiguous. Returning False, but in future this will result in an error. Use `array.size > 0` to check that an array is not empty.\n",
      "  if diff:\n",
      "C:\\Users\\M0205192\\AppData\\Local\\Continuum\\anaconda3\\lib\\site-packages\\sklearn\\preprocessing\\label.py:151: DeprecationWarning: The truth value of an empty array is ambiguous. Returning False, but in future this will result in an error. Use `array.size > 0` to check that an array is not empty.\n",
      "  if diff:\n",
      "C:\\Users\\M0205192\\AppData\\Local\\Continuum\\anaconda3\\lib\\site-packages\\sklearn\\preprocessing\\label.py:151: DeprecationWarning: The truth value of an empty array is ambiguous. Returning False, but in future this will result in an error. Use `array.size > 0` to check that an array is not empty.\n",
      "  if diff:\n"
     ]
    },
    {
     "name": "stdout",
     "output_type": "stream",
     "text": [
      "Min/Mean/Max F1-Score = 0.899049 / 0.910866 / 0.924994 \n"
     ]
    },
    {
     "name": "stderr",
     "output_type": "stream",
     "text": [
      "C:\\Users\\M0205192\\AppData\\Local\\Continuum\\anaconda3\\lib\\site-packages\\sklearn\\preprocessing\\label.py:151: DeprecationWarning: The truth value of an empty array is ambiguous. Returning False, but in future this will result in an error. Use `array.size > 0` to check that an array is not empty.\n",
      "  if diff:\n"
     ]
    }
   ],
   "source": [
    "xgboost_model = XGBClassifier(max_depth=100, n_estimators=100, learning_rate=1, n_jobs=50, booster='gbtree')\n",
    "xgboost_scores, xgboost_best, cm_xgboost = CV_monte_carlo(xgboost_model, N=4, training_data=train_pd)"
   ]
  },
  {
   "cell_type": "code",
   "execution_count": 246,
   "metadata": {},
   "outputs": [
    {
     "data": {
      "text/plain": [
       "array([[88.23529412,  4.5751634 ,  0.        ,  7.18954248],\n",
       "       [ 2.45398773, 86.80981595,  3.37423313,  7.36196319],\n",
       "       [ 0.41666667,  3.33333333, 91.25      ,  5.        ],\n",
       "       [ 0.        ,  0.33528919,  0.75440067, 98.91031014]])"
      ]
     },
     "execution_count": 246,
     "metadata": {},
     "output_type": "execute_result"
    }
   ],
   "source": [
    "# confusion matrix\n",
    "100 * cm_xgboost / cm_xgboost.sum(axis=1)[:, np.newaxis]"
   ]
  },
  {
   "cell_type": "markdown",
   "metadata": {},
   "source": [
    "## XGBoost witn engineered data"
   ]
  },
  {
   "cell_type": "code",
   "execution_count": 247,
   "metadata": {},
   "outputs": [
    {
     "name": "stderr",
     "output_type": "stream",
     "text": [
      "C:\\Users\\M0205192\\AppData\\Local\\Continuum\\anaconda3\\lib\\site-packages\\sklearn\\preprocessing\\label.py:151: DeprecationWarning: The truth value of an empty array is ambiguous. Returning False, but in future this will result in an error. Use `array.size > 0` to check that an array is not empty.\n",
      "  if diff:\n",
      "C:\\Users\\M0205192\\AppData\\Local\\Continuum\\anaconda3\\lib\\site-packages\\sklearn\\preprocessing\\label.py:151: DeprecationWarning: The truth value of an empty array is ambiguous. Returning False, but in future this will result in an error. Use `array.size > 0` to check that an array is not empty.\n",
      "  if diff:\n",
      "C:\\Users\\M0205192\\AppData\\Local\\Continuum\\anaconda3\\lib\\site-packages\\sklearn\\preprocessing\\label.py:151: DeprecationWarning: The truth value of an empty array is ambiguous. Returning False, but in future this will result in an error. Use `array.size > 0` to check that an array is not empty.\n",
      "  if diff:\n"
     ]
    },
    {
     "name": "stdout",
     "output_type": "stream",
     "text": [
      "Min/Mean/Max F1-Score = 0.914210 / 0.920771 / 0.929155 \n"
     ]
    },
    {
     "name": "stderr",
     "output_type": "stream",
     "text": [
      "C:\\Users\\M0205192\\AppData\\Local\\Continuum\\anaconda3\\lib\\site-packages\\sklearn\\preprocessing\\label.py:151: DeprecationWarning: The truth value of an empty array is ambiguous. Returning False, but in future this will result in an error. Use `array.size > 0` to check that an array is not empty.\n",
      "  if diff:\n"
     ]
    }
   ],
   "source": [
    "xgboost_model_engineered = XGBClassifier(max_depth=100, n_estimators=100, learning_rate=1, n_jobs=50, booster='gbtree')\n",
    "xgboost_scores_engineered, xgboost_best_engineered, cm_xgboost_engineered = CV_monte_carlo(xgboost_model_engineered, N=4, \n",
    "                                                                    training_data=train_engineered_pd)"
   ]
  },
  {
   "cell_type": "code",
   "execution_count": 248,
   "metadata": {},
   "outputs": [
    {
     "data": {
      "text/plain": [
       "array([[8.96103896e+01, 8.44155844e+00, 6.49350649e-01, 1.29870130e+00],\n",
       "       [3.21428571e+00, 9.25000000e+01, 1.78571429e+00, 2.50000000e+00],\n",
       "       [1.65289256e+00, 2.89256198e+00, 8.88429752e+01, 6.61157025e+00],\n",
       "       [8.09061489e-02, 7.28155340e-01, 4.04530744e-01, 9.87864078e+01]])"
      ]
     },
     "execution_count": 248,
     "metadata": {},
     "output_type": "execute_result"
    }
   ],
   "source": [
    "# confusion matrix\n",
    "100 * cm_xgboost_engineered / cm_xgboost_engineered.sum(axis=1)[:, np.newaxis]"
   ]
  },
  {
   "cell_type": "markdown",
   "metadata": {},
   "source": [
    "# Define the network"
   ]
  },
  {
   "cell_type": "code",
   "execution_count": 351,
   "metadata": {},
   "outputs": [],
   "source": [
    "from keras.models import Sequential\n",
    "from keras.layers import Dense, Activation, Dropout, BatchNormalization\n",
    "from keras.optimizers import RMSprop, Adam\n",
    "from keras.utils import vis_utils\n",
    "\n",
    "# define custom F1 metric\n",
    "# taken from https://medium.com/@thongonary/how-to-compute-f1-score-for-each-epoch-in-keras-a1acd17715a2\n",
    "\n",
    "class Metrics(Callback):\n",
    "    def __init__(self):\n",
    "        self.metric_optimal = 0\n",
    "        self.cm = None\n",
    "    \n",
    "    def on_train_begin(self, logs={}):\n",
    "        self.val_f1s = []\n",
    "        self.val_recalls = []\n",
    "        self.val_precisions = []\n",
    "        \n",
    "    def on_epoch_end(self, epoch, logs={}):\n",
    "        \n",
    "        val_predict = (np.asarray(self.model.predict(self.validation_data[0]))).round()\n",
    "        val_targ = self.validation_data[1]\n",
    "        # Pdb().set_trace()\n",
    "        _val_f1 = f1_score(val_targ, val_predict, average=\"macro\")\n",
    "        _val_recall = recall_score(val_targ, val_predict, average=\"macro\")\n",
    "        _val_precision = precision_score(val_targ, val_predict, average=\"macro\")\n",
    "\n",
    "        if _val_f1 > self.metric_optimal:\n",
    "            # print(\" - Best model found with f1 score = %f. Checkpointing\"%_val_f1)\n",
    "            self.metric_optimal = _val_f1\n",
    "            self.model.save(self.model.name+'.h5')\n",
    "            # compute the confusion matrix\n",
    "            # self.cm = confusion_matrix(val_predict, val_targ)\n",
    "            \n",
    "        self.val_f1s.append(_val_f1)\n",
    "        self.val_recalls.append(_val_recall)\n",
    "        self.val_precisions.append(_val_precision)\n",
    "        # print(\" - val_f1: %f | val_precision: %f | val_recall %f\"%(_val_f1, _val_precision, _val_recall))\n",
    "        return\n",
    "    \n",
    "    def on_train_end(self, logs={}):\n",
    "        print('Best F1-Score for model %s = %f'%(self.model.name, self.metric_optimal))\n",
    "        \n",
    "def create_model(model_object, name):\n",
    "    model_object.compile(loss='categorical_crossentropy', optimizer='adam', metrics=['acc'])\n",
    "    model_object.name = name\n",
    "    return model_object\n",
    "\n",
    "all_models_full_dataset = [\n",
    "    create_model(Sequential([\n",
    "        Dense(units=60, input_shape=(127,), activation='relu', use_bias=True, kernel_initializer='glorot_uniform'),\n",
    "        # Dense(units=40, activation='sigmoid', use_bias=True, kernel_initializer='glorot_uniform'),\n",
    "        Dropout(rate=0.3),\n",
    "        Dense(units=20, activation='sigmoid', use_bias=True, kernel_initializer='glorot_uniform'),\n",
    "        Dropout(rate=0.3),\n",
    "        Dense(units=10, activation='sigmoid', use_bias=True, kernel_initializer='glorot_uniform'),\n",
    "        Dropout(rate=0.3),\n",
    "        Dense(units=4, activation='softmax', use_bias=True, kernel_initializer='glorot_uniform')\n",
    "    ]), name='model_v1')\n",
    "]\n",
    "\n",
    "all_models_engineered_dataset = [\n",
    "    create_model(Sequential([\n",
    "        Dense(units=60, input_shape=(49,), activation='relu', use_bias=True, kernel_initializer='glorot_uniform'),\n",
    "        Dropout(rate=0.3),\n",
    "        Dense(units=40, activation='sigmoid', use_bias=True, kernel_initializer='glorot_uniform'),\n",
    "        Dropout(rate=0.3),\n",
    "        Dense(units=20, activation='sigmoid', use_bias=True, kernel_initializer='glorot_uniform'),\n",
    "        Dropout(rate=0.3),\n",
    "        Dropout(rate=0.3),\n",
    "        Dense(units=10, activation='softmax', use_bias=True, kernel_initializer='glorot_uniform'),\n",
    "        Dropout(rate=0.3),\n",
    "        Dense(units=4, activation='softmax', use_bias=True, kernel_initializer='glorot_uniform')\n",
    "    ]), name='model_v1')\n",
    "]\n",
    "\n",
    "\n",
    "category_mapping = {1: np.array([0, 0,0,1]), 2:np.array([0, 0,1,0]), 3:np.array([0, 1,0,0]), 4:np.array([1,0,0,0])}\n"
   ]
  },
  {
   "cell_type": "markdown",
   "metadata": {},
   "source": [
    "### Run with full dataset"
   ]
  },
  {
   "cell_type": "code",
   "execution_count": 326,
   "metadata": {},
   "outputs": [],
   "source": [
    "x_train, x_test, \\\n",
    "        y_train, y_test = train_test_split(train_pd.loc[:, ~train_pd.columns.isin(['Target'])].values, \n",
    "                                                     train_pd['Target'].values, test_size=1-0.8)\n",
    "  \n",
    "\n",
    "x_train_rs, y_train_rs = naive_resample(x_train, y_train)\n",
    "x_train_smote, y_train_smote = SMOTE_resample(x_train, y_train)\n"
   ]
  },
  {
   "cell_type": "code",
   "execution_count": 323,
   "metadata": {},
   "outputs": [
    {
     "name": "stdout",
     "output_type": "stream",
     "text": [
      "Running model: model_v1\n"
     ]
    },
    {
     "name": "stderr",
     "output_type": "stream",
     "text": [
      "C:\\Users\\M0205192\\AppData\\Local\\Continuum\\anaconda3\\lib\\site-packages\\sklearn\\metrics\\classification.py:1135: UndefinedMetricWarning: F-score is ill-defined and being set to 0.0 in labels with no predicted samples.\n",
      "  'precision', 'predicted', average, warn_for)\n",
      "C:\\Users\\M0205192\\AppData\\Local\\Continuum\\anaconda3\\lib\\site-packages\\sklearn\\metrics\\classification.py:1135: UndefinedMetricWarning: Precision is ill-defined and being set to 0.0 in labels with no predicted samples.\n",
      "  'precision', 'predicted', average, warn_for)\n"
     ]
    },
    {
     "name": "stdout",
     "output_type": "stream",
     "text": [
      "Best F1-Score for model model_v1 = 0.541286\n"
     ]
    }
   ],
   "source": [
    "for m in all_models_full_dataset:\n",
    "    print(\"Running model: %s\"%m.name)\n",
    "    m.fit(x_train_rs, np.array([category_mapping[x] for x in y_train_rs]), \n",
    "          validation_data = (x_test, np.array([category_mapping[x] for x in y_test])),\n",
    "          epochs = 100, batch_size = 120,verbose = 0, callbacks = [Metrics()])"
   ]
  },
  {
   "cell_type": "markdown",
   "metadata": {},
   "source": [
    "### Add the labels from the RF as features"
   ]
  },
  {
   "cell_type": "code",
   "execution_count": 345,
   "metadata": {},
   "outputs": [
    {
     "name": "stderr",
     "output_type": "stream",
     "text": [
      "C:\\Users\\M0205192\\AppData\\Local\\Continuum\\anaconda3\\lib\\site-packages\\sklearn\\preprocessing\\label.py:151: DeprecationWarning: The truth value of an empty array is ambiguous. Returning False, but in future this will result in an error. Use `array.size > 0` to check that an array is not empty.\n",
      "  if diff:\n"
     ]
    }
   ],
   "source": [
    "# add the RF labels as features\n",
    "if 'rf_label' in train_engineered_pd:\n",
    "    del train_engineered_pd['rf_label']\n",
    "    \n",
    "if 'xgboost_label' in train_engineered_pd:\n",
    "    del train_engineered_pd['xgboost_label']\n",
    "\n",
    "rf_label = rf_model_engineered.predict(train_engineered_pd.loc[:, ~train_engineered_pd.columns.isin(['Target'])].values)\n",
    "xgboost_label = xgboost_best_engineered.predict(train_engineered_pd.loc[:, ~train_engineered_pd.columns.isin(['Target'])].values)\n",
    "\n",
    "train_engineered_pd['rf_label'] = rf_label\n",
    "train_engineered_pd['xgboost_label'] = xgboost_label\n",
    "\n",
    "x_train, x_test, \\\n",
    "        y_train, y_test = train_test_split(train_engineered_pd.loc[:, ~train_engineered_pd.columns.isin(['Target'])].values, \n",
    "                                                     train_engineered_pd['Target'].values, test_size=1-0.8)\n",
    "  \n",
    "\n",
    "x_train_rs, y_train_rs = naive_resample(x_train, y_train)\n",
    "x_train_smote, y_train_smote = SMOTE_resample(x_train, y_train)\n",
    "\n"
   ]
  },
  {
   "cell_type": "code",
   "execution_count": 339,
   "metadata": {},
   "outputs": [
    {
     "name": "stdout",
     "output_type": "stream",
     "text": [
      "Running model: model_v1\n"
     ]
    },
    {
     "name": "stderr",
     "output_type": "stream",
     "text": [
      "C:\\Users\\M0205192\\AppData\\Local\\Continuum\\anaconda3\\lib\\site-packages\\sklearn\\metrics\\classification.py:1135: UndefinedMetricWarning: F-score is ill-defined and being set to 0.0 in labels with no predicted samples.\n",
      "  'precision', 'predicted', average, warn_for)\n",
      "C:\\Users\\M0205192\\AppData\\Local\\Continuum\\anaconda3\\lib\\site-packages\\sklearn\\metrics\\classification.py:1135: UndefinedMetricWarning: Precision is ill-defined and being set to 0.0 in labels with no predicted samples.\n",
      "  'precision', 'predicted', average, warn_for)\n"
     ]
    },
    {
     "name": "stdout",
     "output_type": "stream",
     "text": [
      "Best F1-Score for model model_v1 = 0.848562\n"
     ]
    }
   ],
   "source": [
    "for m in all_models_engineered_dataset:\n",
    "    print(\"Running model: %s\"%m.name)\n",
    "    m.fit(x_train_rs, np.array([category_mapping[x] for x in y_train_rs]), \n",
    "          validation_data = (x_test, np.array([category_mapping[x] for x in y_test])),\n",
    "          epochs = 200, batch_size = 200,verbose = 0, callbacks = [Metrics()])"
   ]
  },
  {
   "cell_type": "code",
   "execution_count": 352,
   "metadata": {},
   "outputs": [
    {
     "name": "stdout",
     "output_type": "stream",
     "text": [
      "Running model: model_v1\n"
     ]
    },
    {
     "name": "stderr",
     "output_type": "stream",
     "text": [
      "C:\\Users\\M0205192\\AppData\\Local\\Continuum\\anaconda3\\lib\\site-packages\\sklearn\\metrics\\classification.py:1135: UndefinedMetricWarning: F-score is ill-defined and being set to 0.0 in labels with no predicted samples.\n",
      "  'precision', 'predicted', average, warn_for)\n",
      "C:\\Users\\M0205192\\AppData\\Local\\Continuum\\anaconda3\\lib\\site-packages\\sklearn\\metrics\\classification.py:1135: UndefinedMetricWarning: Precision is ill-defined and being set to 0.0 in labels with no predicted samples.\n",
      "  'precision', 'predicted', average, warn_for)\n"
     ]
    },
    {
     "name": "stdout",
     "output_type": "stream",
     "text": [
      "Best F1-Score for model model_v1 = 0.853186\n"
     ]
    }
   ],
   "source": [
    "for m in all_models_engineered_dataset:\n",
    "    print(\"Running model: %s\"%m.name)\n",
    "    m.fit(x_train_rs, np.array([category_mapping[x] for x in y_train_rs]), \n",
    "          validation_data = (x_test, np.array([category_mapping[x] for x in y_test])),\n",
    "          epochs = 200, batch_size = 200,verbose = 0, callbacks = [Metrics()])"
   ]
  },
  {
   "cell_type": "code",
   "execution_count": null,
   "metadata": {},
   "outputs": [],
   "source": []
  }
 ],
 "metadata": {
  "kernelspec": {
   "display_name": "Python 3",
   "language": "python",
   "name": "python3"
  },
  "language_info": {
   "codemirror_mode": {
    "name": "ipython",
    "version": 3
   },
   "file_extension": ".py",
   "mimetype": "text/x-python",
   "name": "python",
   "nbconvert_exporter": "python",
   "pygments_lexer": "ipython3",
   "version": "3.6.4"
  },
  "toc": {
   "toc_cell": false,
   "toc_number_sections": true,
   "toc_threshold": 6,
   "toc_window_display": false
  }
 },
 "nbformat": 4,
 "nbformat_minor": 2
}
